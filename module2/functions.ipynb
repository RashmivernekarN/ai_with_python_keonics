{
 "cells": [
  {
   "cell_type": "code",
   "execution_count": 8,
   "metadata": {},
   "outputs": [
    {
     "name": "stdout",
     "output_type": "stream",
     "text": [
      "Result of sum of  [10, 20, 30, 40, 50, 60, 70, 80]  is  360\n"
     ]
    }
   ],
   "source": [
    "#function\n",
    "def fun(list1):\n",
    "    result=0\n",
    "    for index in range(len(list1)):\n",
    "        result= result + list1[index]\n",
    "    print('Result of sum of ',list1,' is ',result)\n",
    "\n",
    "list1=[10,20,30]\n",
    "fun(list1)\n"
   ]
  },
  {
   "cell_type": "code",
   "execution_count": 12,
   "metadata": {},
   "outputs": [
    {
     "name": "stdout",
     "output_type": "stream",
     "text": [
      "{1: 'alpha', 2: 'beta', 3: 'gama'}\n"
     ]
    }
   ],
   "source": [
    "#function to merge two lists \n",
    "# as group of 1 name and 1 number\n",
    "\n",
    "def merge_fun(list1,list2):\n",
    "    merged_list= zip(list1,list2)\n",
    "    print(dict(merged_list))\n",
    "\n",
    "list1=[1,2,3]\n",
    "list2=['alpha','beta','gama']\n",
    "merge_fun(list1,list2)\n"
   ]
  }
 ],
 "metadata": {
  "kernelspec": {
   "display_name": "Python 3.8.5 ('base')",
   "language": "python",
   "name": "python3"
  },
  "language_info": {
   "codemirror_mode": {
    "name": "ipython",
    "version": 3
   },
   "file_extension": ".py",
   "mimetype": "text/x-python",
   "name": "python",
   "nbconvert_exporter": "python",
   "pygments_lexer": "ipython3",
   "version": "3.8.5"
  },
  "orig_nbformat": 4,
  "vscode": {
   "interpreter": {
    "hash": "ad2bdc8ecc057115af97d19610ffacc2b4e99fae6737bb82f5d7fb13d2f2c186"
   }
  }
 },
 "nbformat": 4,
 "nbformat_minor": 2
}
