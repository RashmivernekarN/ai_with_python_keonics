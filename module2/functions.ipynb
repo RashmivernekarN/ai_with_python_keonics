{
 "cells": [
  {
   "cell_type": "code",
   "execution_count": 128,
   "metadata": {},
   "outputs": [
    {
     "name": "stdout",
     "output_type": "stream",
     "text": [
      "10\n",
      "20\n",
      "30\n",
      "40\n"
     ]
    }
   ],
   "source": [
    "#function\n",
    "def fun(list1):\n",
    "    result=0\n",
    "    for index in range(len(list1)):\n",
    "        # result=  list1[index]\n",
    "        print(list1[index])\n",
    "\n",
    "list1=[10,20,30,40]\n",
    "fun(list1)\n"
   ]
  },
  {
   "cell_type": "code",
   "execution_count": 129,
   "metadata": {},
   "outputs": [
    {
     "name": "stdout",
     "output_type": "stream",
     "text": [
      "{1: 'alpha', 2: 'beta', 3: 'gama'}\n"
     ]
    }
   ],
   "source": [
    "#function to merge two lists \n",
    "# as group of 1 name and 1 number\n",
    "\n",
    "def merge_fun(list1,list2):\n",
    "    merged_list= zip(list1,list2)\n",
    "    print(dict(merged_list))\n",
    "\n",
    "list1=[1,2,3]\n",
    "list2=['alpha','beta','gama']\n",
    "merge_fun(list1,list2)\n"
   ]
  },
  {
   "cell_type": "code",
   "execution_count": 130,
   "metadata": {},
   "outputs": [
    {
     "name": "stdout",
     "output_type": "stream",
     "text": [
      "1.0\n"
     ]
    }
   ],
   "source": [
    "from math import *\n",
    "\n",
    "x= cos( radians(0))\n",
    "\n",
    "print(x)"
   ]
  },
  {
   "cell_type": "code",
   "execution_count": 131,
   "metadata": {},
   "outputs": [
    {
     "name": "stdout",
     "output_type": "stream",
     "text": [
      "Global scope1\n",
      "Global scope1 Global scope2\n",
      "Enclosing scope Global scope1\n",
      "Local scope Enclosing scope\n"
     ]
    }
   ],
   "source": [
    "x='Global scope1'\n",
    "print(x)\n",
    "def outer_func():\n",
    "    y='Enclosing scope'\n",
    "    print(y,x)\n",
    "    def inner_func():\n",
    "        z='Local scope'\n",
    "        print(z,y)\n",
    "    inner_func()\n",
    "s='Global scope2'\n",
    "print(x,s)\n",
    "outer_func()\n",
    "\n"
   ]
  },
  {
   "cell_type": "code",
   "execution_count": 132,
   "metadata": {},
   "outputs": [
    {
     "name": "stdout",
     "output_type": "stream",
     "text": [
      "Am the part of docstr\n",
      "print(value, ..., sep=' ', end='\\n', file=sys.stdout, flush=False)\n",
      "\n",
      "Prints the values to a stream, or to sys.stdout by default.\n",
      "Optional keyword arguments:\n",
      "file:  a file-like object (stream); defaults to the current sys.stdout.\n",
      "sep:   string inserted between values, default a space.\n",
      "end:   string appended after the last value, default a newline.\n",
      "flush: whether to forcibly flush the stream.\n"
     ]
    }
   ],
   "source": [
    "def sq(n):\n",
    "    '''Am the part of docstr'''\n",
    "    return n**2\n",
    "print(sq.__doc__)\n",
    "print(print.__doc__)\n",
    "    "
   ]
  },
  {
   "cell_type": "code",
   "execution_count": 133,
   "metadata": {},
   "outputs": [
    {
     "name": "stdout",
     "output_type": "stream",
     "text": [
      "6\n"
     ]
    }
   ],
   "source": [
    "def cube(y):\n",
    "    n=y\n",
    "    return lambda x: x*n\n",
    "\n",
    "L1=cube(3)\n",
    "print(L1(2))\n"
   ]
  },
  {
   "cell_type": "code",
   "execution_count": 136,
   "metadata": {},
   "outputs": [
    {
     "name": "stdout",
     "output_type": "stream",
     "text": [
      "alpha\n",
      "beta\n",
      "gama\n"
     ]
    }
   ],
   "source": [
    "mytuple=('alpha','beta','gama')\n",
    "Iterable_object=iter(mytuple)\n",
    "\n",
    "print(next(Iterable_object))\n",
    "print(next(Iterable_object))\n",
    "print(next(Iterable_object))\n"
   ]
  },
  {
   "cell_type": "code",
   "execution_count": 143,
   "metadata": {},
   "outputs": [
    {
     "name": "stdout",
     "output_type": "stream",
     "text": [
      "B a n a "
     ]
    }
   ],
   "source": [
    "tuple =('a','b','c')\n",
    "string1 ='Banana'\n",
    "\n",
    "for i in range(len(string1)):\n",
    "    if(i>3):\n",
    "        continue\n",
    "    print(string1[i],end=' ')"
   ]
  },
  {
   "cell_type": "code",
   "execution_count": 145,
   "metadata": {},
   "outputs": [
    {
     "name": "stdout",
     "output_type": "stream",
     "text": [
      "1\n",
      "Am here in yield at 2nd position\n",
      "3\n"
     ]
    }
   ],
   "source": [
    "def simplegen():\n",
    "    yield 1\n",
    "    yield \"Am here in yield at 2nd position\"\n",
    "    yield 3\n",
    "for i in simplegen():\n",
    "    print(i)"
   ]
  }
 ],
 "metadata": {
  "kernelspec": {
   "display_name": "Python 3.8.5 ('base')",
   "language": "python",
   "name": "python3"
  },
  "language_info": {
   "codemirror_mode": {
    "name": "ipython",
    "version": 3
   },
   "file_extension": ".py",
   "mimetype": "text/x-python",
   "name": "python",
   "nbconvert_exporter": "python",
   "pygments_lexer": "ipython3",
   "version": "3.8.5"
  },
  "orig_nbformat": 4,
  "vscode": {
   "interpreter": {
    "hash": "ad2bdc8ecc057115af97d19610ffacc2b4e99fae6737bb82f5d7fb13d2f2c186"
   }
  }
 },
 "nbformat": 4,
 "nbformat_minor": 2
}
