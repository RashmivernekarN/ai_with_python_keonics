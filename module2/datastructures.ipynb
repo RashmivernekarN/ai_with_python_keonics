{
 "cells": [
  {
   "cell_type": "code",
   "execution_count": 29,
   "metadata": {},
   "outputs": [],
   "source": [
    "file1 = open(r'D:\\vm\\Myfile1.txt','w+')\n"
   ]
  },
  {
   "cell_type": "code",
   "execution_count": 30,
   "metadata": {},
   "outputs": [
    {
     "name": "stdout",
     "output_type": "stream",
     "text": [
      "4\n"
     ]
    }
   ],
   "source": [
    "\n",
    "from filecmp import cmp\n",
    "\n",
    "\n",
    "list1=[1,2,3,4]\n",
    "list2=[2,3,4,5]\n",
    "print(len(list1))\n",
    "\n"
   ]
  },
  {
   "cell_type": "markdown",
   "metadata": {},
   "source": []
  },
  {
   "cell_type": "code",
   "execution_count": 31,
   "metadata": {},
   "outputs": [
    {
     "name": "stdout",
     "output_type": "stream",
     "text": [
      "4\n"
     ]
    }
   ],
   "source": [
    "list1=[1,2,3,4]\n",
    "list2=[2,3,4,5]\n",
    "print(max(list1))"
   ]
  },
  {
   "cell_type": "code",
   "execution_count": 32,
   "metadata": {},
   "outputs": [
    {
     "name": "stdout",
     "output_type": "stream",
     "text": [
      "1\n"
     ]
    }
   ],
   "source": [
    "list1=[1,2,3,4]\n",
    "list2=[2,3,4,5]\n",
    "print(min(list1))"
   ]
  },
  {
   "cell_type": "code",
   "execution_count": 33,
   "metadata": {},
   "outputs": [
    {
     "name": "stdout",
     "output_type": "stream",
     "text": [
      "(1, 2, 3, 4)\n"
     ]
    }
   ],
   "source": [
    "list1=[1,2,3,4]\n",
    "list2=[2,3,4,5]\n",
    "print(tuple(list1))"
   ]
  },
  {
   "cell_type": "code",
   "execution_count": 34,
   "metadata": {},
   "outputs": [
    {
     "name": "stdout",
     "output_type": "stream",
     "text": [
      "{1, 2, 3, 'Python world'}\n"
     ]
    }
   ],
   "source": [
    "list1=[1,2,3,'Python world']\n",
    "list2=[2,3,4,5]\n",
    "print(set(list1))\n"
   ]
  },
  {
   "cell_type": "code",
   "execution_count": 35,
   "metadata": {},
   "outputs": [
    {
     "name": "stdout",
     "output_type": "stream",
     "text": [
      "[1, 2, 3, 'Python world']\n"
     ]
    }
   ],
   "source": [
    "t1=(1,2,3,'Python world')\n",
    "\n",
    "print(list(t1))"
   ]
  },
  {
   "cell_type": "code",
   "execution_count": 36,
   "metadata": {},
   "outputs": [
    {
     "name": "stdout",
     "output_type": "stream",
     "text": [
      "{1: 2, 2: 3, 3: 4, 'Python world': 5}\n"
     ]
    }
   ],
   "source": [
    "list1=[1,2,3,'Python world']\n",
    "list2=[2,3,4,5]\n",
    "merged = zip(list1,list2)\n",
    "print(dict(merged))"
   ]
  },
  {
   "cell_type": "code",
   "execution_count": 37,
   "metadata": {},
   "outputs": [
    {
     "name": "stdout",
     "output_type": "stream",
     "text": [
      "{1: 2, 2: 3, 3: 4, 'Python world': 5}\n",
      "[1, 2, 3, 'Python world']\n"
     ]
    }
   ],
   "source": [
    "list1=[1,2,3,'Python world']\n",
    "list2=[2,3,4,5]\n",
    "merged = zip(list1,list2)\n",
    "d1=dict(merged)\n",
    "print(d1)\n",
    "print(list(d1))\n",
    "\n",
    "\n"
   ]
  },
  {
   "cell_type": "code",
   "execution_count": 38,
   "metadata": {},
   "outputs": [
    {
     "name": "stdout",
     "output_type": "stream",
     "text": [
      "{1: 'Hubli', 2: 3, 3: 'Dharwad', 'Python world': 5}\n",
      "[1, 'Test', 3, 'Python world']\n"
     ]
    }
   ],
   "source": [
    "list1=[1,2,3,'Python world']\n",
    "list2=[2,3,4,5]\n",
    "list3=[10,20]\n",
    "merged = zip(list1,list2)\n",
    "d1=dict(merged)\n",
    "list1[1]=\"Test\"\n",
    "d1[1]=\"Hubli\"\n",
    "d1.update({3:'Dharwad'})\n",
    "\n",
    "print(d1)\n",
    "print(list1)"
   ]
  },
  {
   "cell_type": "code",
   "execution_count": 39,
   "metadata": {},
   "outputs": [
    {
     "name": "stdout",
     "output_type": "stream",
     "text": [
      "[1, 2, 3, 'Python world']\n",
      "\n"
     ]
    }
   ],
   "source": [
    "list1=[1,2,3,'Python world']\n",
    "list2=[2,3,4,5]\n",
    "list3=[10,20]\n",
    "print(list1)\n",
    "list1.extend(list3)\n",
    "print()"
   ]
  },
  {
   "cell_type": "code",
   "execution_count": 40,
   "metadata": {},
   "outputs": [
    {
     "name": "stdout",
     "output_type": "stream",
     "text": [
      "[2, 3, 4, 5, 4]\n",
      "[2, 3, 10, 4, 5, 4]\n"
     ]
    }
   ],
   "source": [
    "list1=[2,3,4,5,4]\n",
    "print(list1)\n",
    "list1.insert(2,10)\n",
    "print(list1)\n"
   ]
  },
  {
   "cell_type": "code",
   "execution_count": 41,
   "metadata": {},
   "outputs": [
    {
     "name": "stdout",
     "output_type": "stream",
     "text": [
      "[2, 3, 4, 5, 4]\n",
      "[2, 3, 4, 5]\n",
      "[2, 3, 4]\n"
     ]
    }
   ],
   "source": [
    "list1=[2,3,4,5,4]\n",
    "print(list1)\n",
    "list1.pop()\n",
    "print(list1)\n",
    "list1.pop()\n",
    "print(list1)\n"
   ]
  },
  {
   "cell_type": "code",
   "execution_count": 42,
   "metadata": {},
   "outputs": [
    {
     "name": "stdout",
     "output_type": "stream",
     "text": [
      "[2, 3, 4, 5, 4]\n",
      "[2, 3, 5, 4]\n"
     ]
    }
   ],
   "source": [
    "list1=[2,3,4,5,4]\n",
    "print(list1)\n",
    "list1.remove(4)\n",
    "print(list1)"
   ]
  },
  {
   "cell_type": "code",
   "execution_count": 43,
   "metadata": {},
   "outputs": [
    {
     "name": "stdout",
     "output_type": "stream",
     "text": [
      "[2, 3, 5]\n"
     ]
    }
   ],
   "source": [
    "list1.remove(4)\n",
    "print(list1)"
   ]
  },
  {
   "cell_type": "code",
   "execution_count": 44,
   "metadata": {},
   "outputs": [
    {
     "name": "stdout",
     "output_type": "stream",
     "text": [
      "[2, 3, 4, 5, 4]\n",
      "[4, 5, 4, 3, 2]\n"
     ]
    }
   ],
   "source": [
    "list1=[2,3,4,5,4]\n",
    "print(list1)\n",
    "list1.reverse()\n",
    "print(list1)"
   ]
  },
  {
   "cell_type": "code",
   "execution_count": 45,
   "metadata": {},
   "outputs": [
    {
     "name": "stdout",
     "output_type": "stream",
     "text": [
      "[2, 3, 4, 5, 4]\n",
      "[5, 4, 4, 3, 2]\n"
     ]
    }
   ],
   "source": [
    "list1=[2,3,4,5,4]\n",
    "print(list1)\n",
    "list1.sort()\n",
    "list1.reverse()\n",
    "print(list1)"
   ]
  },
  {
   "cell_type": "code",
   "execution_count": 46,
   "metadata": {},
   "outputs": [
    {
     "name": "stdout",
     "output_type": "stream",
     "text": [
      "('Hello', 'Hello', 'Hello')\n"
     ]
    }
   ],
   "source": [
    "Tuple1 = ('Hello',) * 3\n",
    "print(Tuple1)\n"
   ]
  },
  {
   "cell_type": "code",
   "execution_count": 47,
   "metadata": {},
   "outputs": [
    {
     "name": "stdout",
     "output_type": "stream",
     "text": [
      "96 Bytes\n",
      "80 Bytes\n"
     ]
    }
   ],
   "source": [
    "import sys\n",
    "a_list = list()\n",
    "a_tuple = tuple()\n",
    "a_list = [1,2,3,4,5]\n",
    "a_tuple = (1,2,3,4,5)\n",
    "print(sys.getsizeof(a_list),\"Bytes\")\n",
    "print(sys.getsizeof(a_tuple),\"Bytes\")\n"
   ]
  },
  {
   "cell_type": "code",
   "execution_count": 48,
   "metadata": {},
   "outputs": [
    {
     "name": "stdout",
     "output_type": "stream",
     "text": [
      "Enter choice: \n",
      " 1.Push\n",
      " 2.Pop\n",
      " 3.Display\n",
      " 4.Exit\n"
     ]
    }
   ],
   "source": [
    "\n",
    "list1 = []\n",
    "\n",
    "def empty():\n",
    "    print(\"Empty Stack\")\n",
    "\n",
    "def push_data(n):\n",
    "    list1.append(n)\n",
    "\n",
    "def pop_data():\n",
    "    \n",
    "    if len(list1) == 0:\n",
    "        print('No elements to delete')\n",
    "    else:\n",
    "        print(list1[len(list1)-1])\n",
    "        list1.pop()\n",
    "        \n",
    "\n",
    "def display():\n",
    "    if len(list1) == 0:\n",
    "        print('No elements to display')\n",
    "    else:\n",
    "        print(list1)\n",
    "\n",
    "while True:\n",
    "    print(\"Enter choice: \\n 1.Push\\n 2.Pop\\n 3.Display\\n 4.Exit\")\n",
    "    n = int(input(\"Enter the choice : \"))\n",
    "\n",
    "    if n==1:\n",
    "        element=int(input(\"Enter the element : \"))\n",
    "        push_data(element)\n",
    "\n",
    "    elif n==2:\n",
    "        pop_data()\n",
    "\n",
    "    elif n==3:\n",
    "        display()\n",
    "\n",
    "    elif n==4:\n",
    "        break"
   ]
  },
  {
   "cell_type": "code",
   "execution_count": 49,
   "metadata": {},
   "outputs": [
    {
     "name": "stdout",
     "output_type": "stream",
     "text": [
      "List :  96 Bytes\n",
      "Tuple :  80 Bytes\n"
     ]
    }
   ],
   "source": [
    "import sys\n",
    "\n",
    "list1 =['Hello',2,3,4,5.5]\n",
    "tuple1=('Hello',2,3,4,5.5)\n",
    "\n",
    "print('List : ',sys.getsizeof(list1),'Bytes')\n",
    "print('Tuple : ',sys.getsizeof(tuple1),'Bytes')"
   ]
  },
  {
   "cell_type": "code",
   "execution_count": 50,
   "metadata": {},
   "outputs": [
    {
     "name": "stdout",
     "output_type": "stream",
     "text": [
      "{'b', 'a', 'c'}\n",
      "{'b', 'a', 'd', 'c'}\n",
      "{'b', 1, 2, 3, 4, 5, 'a', 'c', 'd'}\n"
     ]
    }
   ],
   "source": [
    "people={'a','b','c'}\n",
    "print(people)\n",
    "people.add('d')\n",
    "print(people)\n",
    "\n",
    "for i in range(1,6):\n",
    "    people.add(i)\n",
    "print(people)"
   ]
  },
  {
   "cell_type": "code",
   "execution_count": 51,
   "metadata": {},
   "outputs": [
    {
     "name": "stdout",
     "output_type": "stream",
     "text": [
      "{'b', 'a', 'c'}\n",
      "{'b', 'c', 'e', 'a', 'd'}\n",
      "{'e', 'd'}\n"
     ]
    }
   ],
   "source": [
    "people = {'a','b','c'}\n",
    "vampire = { 'd','e' }\n",
    "dracula = { 'd','e' }\n",
    "print(people)\n",
    "population = people.union(vampire)\n",
    "print(population)\n",
    "# print(people.union(dracula))\n",
    "print(vampire)\n",
    "# print(population)\n",
    "\n"
   ]
  },
  {
   "cell_type": "code",
   "execution_count": 52,
   "metadata": {},
   "outputs": [
    {
     "name": "stdout",
     "output_type": "stream",
     "text": [
      "{'b', 'c', 'e', 'a', 'd'}\n",
      "{'b', 'c', 'e', 'a', 'd'}\n",
      "{'b', 'a', 'c'}\n"
     ]
    }
   ],
   "source": [
    "people = {'a','b','c'}\n",
    "vampire = { 'd','e' }\n",
    "dracula = { 'd','e' }\n",
    "\n",
    "population = people | dracula\n",
    "print(population)\n",
    "print(people | dracula)\n",
    "print(people)\n"
   ]
  },
  {
   "cell_type": "code",
   "execution_count": 53,
   "metadata": {},
   "outputs": [
    {
     "name": "stdout",
     "output_type": "stream",
     "text": [
      "{3, 4, 5}\n",
      "141214656\n",
      "{0, 1, 2, 3, 4, 5, 6, 7, 8}\n",
      "141216224\n"
     ]
    }
   ],
   "source": [
    "set1= set()\n",
    "set2= set()\n",
    "\n",
    "for i in range(6):\n",
    "    # set1={0,1,2,3,4}\n",
    "    set1.add(i)\n",
    "for i in range(3,9):\n",
    "    # set2={3,4,5,6,7,8}\n",
    "    set2.add(i)\n",
    "set3= set1.intersection(set2)\n",
    "print(set3)\n",
    "print(id(set3))\n",
    "set3= set1 | set2\n",
    "print(set3)\n",
    "print(id(set3))"
   ]
  },
  {
   "cell_type": "code",
   "execution_count": 54,
   "metadata": {},
   "outputs": [
    {
     "name": "stdout",
     "output_type": "stream",
     "text": [
      "set1= {0, 1, 2, 3, 4}\n",
      "set2= {3, 4, 5, 6, 7, 8}\n",
      "{0, 1, 2}\n",
      "{8, 5, 6, 7}\n"
     ]
    },
    {
     "ename": "TypeError",
     "evalue": "unsupported operand type(s) for |: 'list' and 'set'",
     "output_type": "error",
     "traceback": [
      "\u001b[1;31m---------------------------------------------------------------------------\u001b[0m",
      "\u001b[1;31mTypeError\u001b[0m                                 Traceback (most recent call last)",
      "\u001b[1;32mc:\\Users\\User\\Desktop\\sample\\Module2\\datastructures.ipynb Cell 27\u001b[0m in \u001b[0;36m<cell line: 19>\u001b[1;34m()\u001b[0m\n\u001b[0;32m     <a href='vscode-notebook-cell:/c%3A/Users/User/Desktop/sample/Module2/datastructures.ipynb#X33sZmlsZQ%3D%3D?line=15'>16</a>\u001b[0m \u001b[39mprint\u001b[39m(set3)\n\u001b[0;32m     <a href='vscode-notebook-cell:/c%3A/Users/User/Desktop/sample/Module2/datastructures.ipynb#X33sZmlsZQ%3D%3D?line=17'>18</a>\u001b[0m list1\u001b[39m=\u001b[39m[\u001b[39m1\u001b[39m,\u001b[39m2\u001b[39m,\u001b[39m3\u001b[39m,\u001b[39m4\u001b[39m]\n\u001b[1;32m---> <a href='vscode-notebook-cell:/c%3A/Users/User/Desktop/sample/Module2/datastructures.ipynb#X33sZmlsZQ%3D%3D?line=18'>19</a>\u001b[0m set3 \u001b[39m=\u001b[39m list1 \u001b[39m|\u001b[39;49m set1\n\u001b[0;32m     <a href='vscode-notebook-cell:/c%3A/Users/User/Desktop/sample/Module2/datastructures.ipynb#X33sZmlsZQ%3D%3D?line=19'>20</a>\u001b[0m \u001b[39mprint\u001b[39m(set3)\n\u001b[0;32m     <a href='vscode-notebook-cell:/c%3A/Users/User/Desktop/sample/Module2/datastructures.ipynb#X33sZmlsZQ%3D%3D?line=20'>21</a>\u001b[0m \u001b[39mprint\u001b[39m(\u001b[39m\"\u001b[39m\u001b[39m_______________________\u001b[39m\u001b[39m\"\u001b[39m)\n",
      "\u001b[1;31mTypeError\u001b[0m: unsupported operand type(s) for |: 'list' and 'set'"
     ]
    }
   ],
   "source": [
    "set1= set()\n",
    "set2= set()\n",
    "\n",
    "for i in range(5):\n",
    "    # 0,1,2,3,4\n",
    "    set1.add(i) \n",
    "print(\"set1=\",set1)\n",
    "for i in range(3,9):\n",
    "    # 3,4,5,6,7,8\n",
    "    set2.add(i)\n",
    "print(\"set2=\",set2)\n",
    "\n",
    "set3 = set1 - set2\n",
    "print(set3)\n",
    "set3 = set2 - set1\n",
    "print(set3)\n",
    "\n",
    "list1=[1,2,3,4]\n",
    "set3 = list1 | set1\n",
    "print(set3)\n",
    "print(\"_______________________\")\n",
    "set3 = set1.add(list1 )\n",
    "print(set3)\n",
    "\n"
   ]
  },
  {
   "cell_type": "code",
   "execution_count": null,
   "metadata": {},
   "outputs": [
    {
     "name": "stdout",
     "output_type": "stream",
     "text": [
      "Set 1 is not subset\n",
      "Set 1 is proper subset\n"
     ]
    }
   ],
   "source": [
    "from tkinter import E\n",
    "\n",
    "\n",
    "set1= set()\n",
    "set2= set()\n",
    "\n",
    "for i in range(5):\n",
    "    # set1={0,1,2,3,4}\n",
    "    set1.add(i) \n",
    "    \n",
    "for i in range(3,9):\n",
    "    # set2={3,4,5,6,7,8}\n",
    "    set2.add(i)\n",
    "if set1 < set2:\n",
    "    print(\"Set 1 is subset\")\n",
    "else:\n",
    "    print('Set 1 is not subset')\n",
    "    \n",
    "    \n",
    "thistuple1 = (\"apple\", \"banana\", \"cherry\", \"apple\")\n",
    "thistuple2 = ( \"banana\", \"Orange\", \"apple\", \"cherry\")\n",
    "if thistuple1 != thistuple2:\n",
    "    print(\"Set 1 is proper subset\")\n",
    "else:\n",
    "    print('Set 1 is not subset')\n",
    "    "
   ]
  },
  {
   "cell_type": "code",
   "execution_count": null,
   "metadata": {},
   "outputs": [
    {
     "name": "stdout",
     "output_type": "stream",
     "text": [
      "{1: 'Python', 2: 'Java', 3: 'Ruby', 4: 'Scala'}\n",
      "..............................\n",
      "{}\n",
      "..............................\n",
      "Python\n",
      "..............................\n",
      "dict_items([(1, 'Python'), (2, 'Java'), (3, 'Ruby'), (4, 'Scala')])\n",
      "..............................\n",
      "dict_keys([1, 2, 3, 4])\n",
      "..............................\n",
      "{1: 'Python', 2: 'Java', 3: 'Ruby'}\n",
      "..............................\n",
      "{1: 'Python', 2: 'Java'}\n",
      "..............................\n",
      "{1: 'Python', 2: 'Java', 3: 'Scala'}\n",
      "..............................\n",
      "dict_values(['Python', 'Java', 'Scala'])\n"
     ]
    }
   ],
   "source": [
    "# demo for all dictionary methods\n",
    "dict1 = {1: \"Python\", 2: \"Java\", 3: \"Ruby\", 4: \"Scala\"}\n",
    "# copy() method\n",
    "dict2 = dict1.copy()\n",
    "print(dict2)\n",
    "print(\"..............................\")\n",
    "# clear() method\n",
    "dict1.clear()\n",
    "print(dict1)\n",
    "print(\"..............................\")\n",
    "# get() method\n",
    "print(dict2.get(1))\n",
    "print(\"..............................\")\n",
    "# items() method\n",
    "print(dict2.items())\n",
    "print(\"..............................\")\n",
    "# keys() method\n",
    "print(dict2.keys())\n",
    "print(\"..............................\")\n",
    "# pop() method\n",
    "dict2.pop(4)\n",
    "print(dict2)\n",
    "print(\"..............................\")\n",
    "# popitem() method\n",
    "dict2.popitem()\n",
    "print(dict2)\n",
    "print(\"..............................\")\n",
    "# update() method\n",
    "dict2.update({3: \"Scala\"})\n",
    "print(dict2)\n",
    "print(\"..............................\")\n",
    "# values() method\n",
    "print(dict2.values())\n",
    "\n"
   ]
  },
  {
   "cell_type": "markdown",
   "metadata": {},
   "source": [
    "Set with loops"
   ]
  },
  {
   "cell_type": "code",
   "execution_count": null,
   "metadata": {},
   "outputs": [
    {
     "name": "stdout",
     "output_type": "stream",
     "text": [
      "Python\n",
      " enumeration\n",
      "0 P , 1 y , 2 t , 3 h , 4 o , 5 n , "
     ]
    }
   ],
   "source": [
    "test_set={'Python'}\n",
    "\n",
    "for val in test_set:\n",
    "    print(val,end=\"\")\n",
    "\n",
    "\n",
    "print(\"\\n enumeration\")\n",
    "test_set=('Python')\n",
    "\n",
    "for id,val in enumerate(test_set):\n",
    "    print(id,val,end=\" , \")\n",
    "    "
   ]
  },
  {
   "cell_type": "code",
   "execution_count": null,
   "metadata": {},
   "outputs": [
    {
     "name": "stdout",
     "output_type": "stream",
     "text": [
      "Get: 20\n"
     ]
    }
   ],
   "source": [
    "print(\"Get: %d\" %(20.1))"
   ]
  },
  {
   "cell_type": "code",
   "execution_count": null,
   "metadata": {},
   "outputs": [
    {
     "name": "stdout",
     "output_type": "stream",
     "text": [
      "value:  10001, float value: 342.3\n",
      "    011\n",
      "1.23456789020000004768E+09\n"
     ]
    }
   ],
   "source": [
    "print(\"value:  %2d, float value: %1.1f\" %(10001,342.333))\n",
    "print(\"%7.3o\" %(9))\n",
    "print(\"%10.20E\"%(1234567890.20))"
   ]
  },
  {
   "cell_type": "code",
   "execution_count": null,
   "metadata": {},
   "outputs": [],
   "source": [
    "with open('myfile.txt') as file1:\n",
    "    data = file1.read()"
   ]
  },
  {
   "cell_type": "code",
   "execution_count": null,
   "metadata": {},
   "outputs": [
    {
     "name": "stdout",
     "output_type": "stream",
     "text": [
      "Second element = 2\n",
      "element can't be fetched the length of list a is limited = 3\n"
     ]
    }
   ],
   "source": [
    "a = [1, 2, 3]\n",
    "try: \n",
    "    print (\"Second element = %d\" %(a[1]))\n",
    "    # Throws error since there are only 3 elements in array\n",
    "    print (\"Fourth element = %d\" %(a[3]))\n",
    "\n",
    "except:\n",
    "    print (\"element can't be fetched the length of list a is limited = %d\"%(len(a)))\n"
   ]
  },
  {
   "cell_type": "markdown",
   "metadata": {},
   "source": [
    "30th Aug 2022 Class"
   ]
  },
  {
   "cell_type": "code",
   "execution_count": null,
   "metadata": {},
   "outputs": [
    {
     "name": "stdout",
     "output_type": "stream",
     "text": [
      "<_csv.reader object at 0x000000000802F340>\n",
      "Purple Hearts\n",
      "Nikamma\n",
      "Radhe Shyam (Hindi)\n",
      "Look Both Ways\n",
      "The Royal Treatment\n",
      "Badhaai Do\n",
      "Wedding Season\n",
      "Persuasion\n",
      "Love Tactics\n",
      "The Entitled\n",
      "Hurdang\n",
      "A Perfect Pairing\n",
      "Hey Sinamika (Hindi)\n",
      "Heartsong\n",
      "Doom of Love\n",
      "Love and Leashes\n",
      "Don’t Blame Karma!\n",
      "In Good Hands\n",
      "Ante Sundaraniki (Tamil)\n",
      "Fast & Feel Love\n",
      "Heart Parade\n",
      "Hey Sinamika\n",
      "Toscana\n",
      "AI Love You\n"
     ]
    }
   ],
   "source": [
    "import csv\n",
    "\n",
    "with open('netflix.csv',mode='r') as opened_file_ref:\n",
    "    csvfile=csv.reader(opened_file_ref)\n",
    "    print(csvfile)\n",
    "\n",
    "    for data in csvfile:\n",
    "        if data[4] == 'Romantic Movies' and data[1] == '2022':\n",
    "            print(data[0])\n"
   ]
  },
  {
   "cell_type": "code",
   "execution_count": null,
   "metadata": {},
   "outputs": [
    {
     "name": "stdout",
     "output_type": "stream",
     "text": [
      "<csv.DictReader object at 0x0000000008EC3C10>\n"
     ]
    },
    {
     "ename": "KeyError",
     "evalue": "4",
     "output_type": "error",
     "traceback": [
      "\u001b[1;31m---------------------------------------------------------------------------\u001b[0m",
      "\u001b[1;31mKeyError\u001b[0m                                  Traceback (most recent call last)",
      "\u001b[1;32mc:\\Users\\User\\Desktop\\sample\\Module2\\datastructures.ipynb Cell 36\u001b[0m in \u001b[0;36m<cell line: 3>\u001b[1;34m()\u001b[0m\n\u001b[0;32m      <a href='vscode-notebook-cell:/c%3A/Users/User/Desktop/sample/Module2/datastructures.ipynb#X52sZmlsZQ%3D%3D?line=4'>5</a>\u001b[0m \u001b[39mprint\u001b[39m(csvfile)\n\u001b[0;32m      <a href='vscode-notebook-cell:/c%3A/Users/User/Desktop/sample/Module2/datastructures.ipynb#X52sZmlsZQ%3D%3D?line=6'>7</a>\u001b[0m \u001b[39mfor\u001b[39;00m data \u001b[39min\u001b[39;00m csvfile:\n\u001b[1;32m----> <a href='vscode-notebook-cell:/c%3A/Users/User/Desktop/sample/Module2/datastructures.ipynb#X52sZmlsZQ%3D%3D?line=7'>8</a>\u001b[0m     \u001b[39mif\u001b[39;00m data[\u001b[39m4\u001b[39;49m] \u001b[39m==\u001b[39m \u001b[39m'\u001b[39m\u001b[39mRomantic Movies\u001b[39m\u001b[39m'\u001b[39m \u001b[39mand\u001b[39;00m data[\u001b[39m1\u001b[39m] \u001b[39m==\u001b[39m \u001b[39m'\u001b[39m\u001b[39m2022\u001b[39m\u001b[39m'\u001b[39m:\n\u001b[0;32m      <a href='vscode-notebook-cell:/c%3A/Users/User/Desktop/sample/Module2/datastructures.ipynb#X52sZmlsZQ%3D%3D?line=8'>9</a>\u001b[0m         \u001b[39mprint\u001b[39m(data[\u001b[39m'\u001b[39m\u001b[39mName\u001b[39m\u001b[39m'\u001b[39m])\n",
      "\u001b[1;31mKeyError\u001b[0m: 4"
     ]
    }
   ],
   "source": [
    "import csv\n",
    "\n",
    "with open('netflix.csv',mode='r') as opened_file_ref:\n",
    "    csvfile=csv.DictReader(opened_file_ref)\n",
    "    print(csvfile)\n",
    "\n",
    "    for data in csvfile:\n",
    "        if data[4] == 'Romantic Movies' and data[1] == '2022':\n",
    "            print(data['Name'])\n",
    "\n"
   ]
  },
  {
   "cell_type": "code",
   "execution_count": null,
   "metadata": {},
   "outputs": [
    {
     "name": "stdout",
     "output_type": "stream",
     "text": [
      "Total no of Rows:       2730\n",
      "Field Names: Name,Year,Age Rating,Duration,Category, ,Count of Year,Column Labels,,,,,,,,,,\n",
      "first 5 rows:\n",
      "\n",
      "The Sea Beast        2022          7+      1h 59m  Kids & Family Movies              Row Labels         13+         18+         16+          7+         All          16                      12          14       TV-MA  Grand Total  \n",
      "\n",
      "Sonic the Hedgehog        2020          7+      1h 41m  Kids & Family Movies                    2021         100         103          97          67          10           4                       6           1                     388  \n",
      "\n",
      "Tom and Jerry        2021          7+      1h 41m  Kids & Family Movies                    2020          75          86          80          59          20           8                       1           1                     330  \n",
      "\n",
      "We Can Be Heroes        2020          7+      1h 40m  Kids & Family Movies                    2022          78          64          91          28           8           8                                   1                     278  \n",
      "\n",
      "STAND BY ME Doraemon 2        2020          7+      1h 37m  Kids & Family Movies                    2019          76          75          69          35           9           4                       1                                 269  \n",
      "\n"
     ]
    }
   ],
   "source": [
    "import csv\n",
    "\n",
    "\n",
    "filename = 'netflix.csv'\n",
    "fields = []\n",
    "rows = []\n",
    "\n",
    "with open('netflix.csv',mode='r') as opened_file_ref:\n",
    "    csvfile=csv.reader(opened_file_ref)\n",
    "    fields = next(csvfile)\n",
    "    \n",
    "    for row in csvfile:\n",
    "        rows.append(row)\n",
    "    print(\"Total no of Rows: %10d\"%(csvfile.line_num))\n",
    "    print(\"Field Names: \"+','.join(field for field in fields))\n",
    "    print(\"first 5 rows:\\n\")\n",
    "    for row in rows[:5]:\n",
    "        for col in row:\n",
    "            print(\"%10s \"%col, end=' ')\n",
    "        print('\\n')\n"
   ]
  },
  {
   "cell_type": "code",
   "execution_count": null,
   "metadata": {},
   "outputs": [],
   "source": [
    "import csv\n",
    " \n",
    "# my data rows as dictionary objects\n",
    "mydict =[{'branch': 'COE', 'cgpa': '9.0',\n",
    "          'name': 'Nikhil', 'year': '2'},\n",
    "        {'branch': 'COE', 'cgpa': '9.1',\n",
    "         'name': 'Sanchit', 'year': '2'},\n",
    "        {'branch': 'IT', 'cgpa': '9.3',\n",
    "         'name': 'Aditya', 'year': '2'},\n",
    "        {'branch': 'SE', 'cgpa': '9.5',\n",
    "         'name': 'Sagar', 'year': '1'},\n",
    "        {'branch': 'MCE', 'cgpa': '7.8',\n",
    "         'name': 'Prateek', 'year': '3'},\n",
    "        {'branch': 'EP', 'cgpa': '9.1',\n",
    "         'name': 'Sahil', 'year': '2'}]\n",
    " \n",
    "# field names\n",
    "fields = ['name', 'branch', 'year', 'cgpa']\n",
    " \n",
    "# name of csv file\n",
    "filename = \"university_records.csv\"\n",
    " \n",
    "# writing to csv file\n",
    "with open(filename, 'w') as csvfile:\n",
    "    # creating a csv dict writer object\n",
    "    writer = csv.DictWriter(csvfile, fieldnames = fields)\n",
    "     \n",
    "    # writing headers (field names)\n",
    "    writer.writeheader()\n",
    "     \n",
    "    # writing data rows\n",
    "    writer.writerows(mydict)"
   ]
  },
  {
   "cell_type": "code",
   "execution_count": null,
   "metadata": {},
   "outputs": [
    {
     "name": "stdout",
     "output_type": "stream",
     "text": [
      "['Name', 'Branch', 'Year', 'CGPA']\n",
      "[]\n",
      "['Nikhil', 'EC', '2', '9.0']\n",
      "[]\n",
      "['Sanchit', 'CE', '2', '9.1']\n",
      "[]\n",
      "['Yusuf', 'EC', '2', '9.3']\n",
      "[]\n",
      "['Sagar', 'CS', '1', '9.5']\n",
      "[]\n",
      "['Ijaz', 'ME', '3', '7.8']\n",
      "[]\n",
      "['Hemanth', 'CE', '2', '9.1']\n",
      "[]\n",
      "['Pushpa', 'EC', '2', '9.1']\n",
      "[]\n",
      "Number of Rows: 16\n"
     ]
    }
   ],
   "source": [
    "# importing the csv module\n",
    "import csv\n",
    "\n",
    "# field names\n",
    "fields = ['Name', 'Branch','Year','CGPA']\n",
    "\n",
    "# data rows of csv file\n",
    "rows = [['Nikhil', 'EC', '2', '9.0'],['Sanchit', 'CE', '2', '9.1'],['Yusuf', 'EC', '2', '9.3'],\n",
    "        ['Sagar', 'CS', '1', '9.5'],['Ijaz', 'ME', '3', '7.8'],['Hemanth', 'CE', '2', '9.1'],\n",
    "        ['Pushpa', 'EC', '2', '9.1']]\n",
    "\n",
    "\n",
    "# name of csv file\n",
    "filename = \"kle_university_record.csv\"\n",
    "\n",
    "# writing to csv file\n",
    "with open(filename, 'w') as csvfile:\n",
    "    # creating a csv writer object\n",
    "    csvwriter = csv.writer(csvfile)\n",
    "    # writing the fields\n",
    "    csvwriter.writerow(fields)\n",
    "    # writing the data rows\n",
    "    csvwriter.writerows(rows)\n",
    "with open(filename, 'r') as csvfile:\n",
    "        csvfile=csv.reader(csvfile)\n",
    "        for row in csvfile:        \n",
    "                print(row)\n",
    "        print('Number of Rows: %d'%(csvfile.line_num))"
   ]
  },
  {
   "cell_type": "code",
   "execution_count": null,
   "metadata": {},
   "outputs": [
    {
     "name": "stdout",
     "output_type": "stream",
     "text": [
      "[['Nikhil', 'EC', '2', '9.0'], ['Sanchit', 'CE', '2', '9.1'], ['Yusuf', 'EC', '2', '9.3'], ['Sagar', 'CS', '1', '9.5'], ['Ijaz', 'ME', '3', '7.8'], ['Hemanth', 'CE', '2', '9.1'], ['Pushpa', 'EC', '2', '9.1']]\n",
      "[['Nikhil', 'EC', '2', '9.0'], ['Sanchit', 'CE', '2', '9.1'], ['Yusuf', 'EC', '2', '9.3'], ['Sagar', 'CS', '1', '9.5'], ['Ijaz', 'ME', '3', '7.8'], ['Hemanth', 'CE', '2', '9.1'], ['Pushpa', 'EC', '2', '9.1']]\n",
      "[['Nikhil', 'EC', '2', '9.0'], ['Sanchit', 'CE', '2', '9.1'], ['Yusuf', 'EC', '2', '9.3'], ['Sagar', 'CS', '1', '9.5'], ['Ijaz', 'ME', '3', '7.8'], ['Hemanth', 'CE', '2', '9.1'], ['Pushpa', 'EC', '2', '9.1']]\n",
      "[['Nikhil', 'EC', '2', '9.0'], ['Sanchit', 'CE', '2', '9.1'], ['Yusuf', 'EC', '2', '9.3'], ['Sagar', 'CS', '1', '9.5'], ['Ijaz', 'ME', '3', '7.8'], ['Hemanth', 'CE', '2', '9.1'], ['Pushpa', 'EC', '2', '9.1']]\n",
      "[['Nikhil', 'EC', '2', '9.0'], ['Sanchit', 'CE', '2', '9.1'], ['Yusuf', 'EC', '2', '9.3'], ['Sagar', 'CS', '1', '9.5'], ['Ijaz', 'ME', '3', '7.8'], ['Hemanth', 'CE', '2', '9.1'], ['Pushpa', 'EC', '2', '9.1']]\n",
      "[['Nikhil', 'EC', '2', '9.0'], ['Sanchit', 'CE', '2', '9.1'], ['Yusuf', 'EC', '2', '9.3'], ['Sagar', 'CS', '1', '9.5'], ['Ijaz', 'ME', '3', '7.8'], ['Hemanth', 'CE', '2', '9.1'], ['Pushpa', 'EC', '2', '9.1']]\n",
      "[['Nikhil', 'EC', '2', '9.0'], ['Sanchit', 'CE', '2', '9.1'], ['Yusuf', 'EC', '2', '9.3'], ['Sagar', 'CS', '1', '9.5'], ['Ijaz', 'ME', '3', '7.8'], ['Hemanth', 'CE', '2', '9.1'], ['Pushpa', 'EC', '2', '9.1']]\n",
      "[['Nikhil', 'EC', '2', '9.0'], ['Sanchit', 'CE', '2', '9.1'], ['Yusuf', 'EC', '2', '9.3'], ['Sagar', 'CS', '1', '9.5'], ['Ijaz', 'ME', '3', '7.8'], ['Hemanth', 'CE', '2', '9.1'], ['Pushpa', 'EC', '2', '9.1']]\n",
      "[['Nikhil', 'EC', '2', '9.0'], ['Sanchit', 'CE', '2', '9.1'], ['Yusuf', 'EC', '2', '9.3'], ['Sagar', 'CS', '1', '9.5'], ['Ijaz', 'ME', '3', '7.8'], ['Hemanth', 'CE', '2', '9.1'], ['Pushpa', 'EC', '2', '9.1']]\n",
      "[['Nikhil', 'EC', '2', '9.0'], ['Sanchit', 'CE', '2', '9.1'], ['Yusuf', 'EC', '2', '9.3'], ['Sagar', 'CS', '1', '9.5'], ['Ijaz', 'ME', '3', '7.8'], ['Hemanth', 'CE', '2', '9.1'], ['Pushpa', 'EC', '2', '9.1']]\n",
      "[['Nikhil', 'EC', '2', '9.0'], ['Sanchit', 'CE', '2', '9.1'], ['Yusuf', 'EC', '2', '9.3'], ['Sagar', 'CS', '1', '9.5'], ['Ijaz', 'ME', '3', '7.8'], ['Hemanth', 'CE', '2', '9.1'], ['Pushpa', 'EC', '2', '9.1']]\n",
      "[['Nikhil', 'EC', '2', '9.0'], ['Sanchit', 'CE', '2', '9.1'], ['Yusuf', 'EC', '2', '9.3'], ['Sagar', 'CS', '1', '9.5'], ['Ijaz', 'ME', '3', '7.8'], ['Hemanth', 'CE', '2', '9.1'], ['Pushpa', 'EC', '2', '9.1']]\n",
      "[['Nikhil', 'EC', '2', '9.0'], ['Sanchit', 'CE', '2', '9.1'], ['Yusuf', 'EC', '2', '9.3'], ['Sagar', 'CS', '1', '9.5'], ['Ijaz', 'ME', '3', '7.8'], ['Hemanth', 'CE', '2', '9.1'], ['Pushpa', 'EC', '2', '9.1']]\n",
      "[['Nikhil', 'EC', '2', '9.0'], ['Sanchit', 'CE', '2', '9.1'], ['Yusuf', 'EC', '2', '9.3'], ['Sagar', 'CS', '1', '9.5'], ['Ijaz', 'ME', '3', '7.8'], ['Hemanth', 'CE', '2', '9.1'], ['Pushpa', 'EC', '2', '9.1']]\n"
     ]
    },
    {
     "ename": "NameError",
     "evalue": "name 'prin' is not defined",
     "output_type": "error",
     "traceback": [
      "\u001b[1;31m---------------------------------------------------------------------------\u001b[0m",
      "\u001b[1;31mNameError\u001b[0m                                 Traceback (most recent call last)",
      "\u001b[1;32mc:\\Users\\User\\Desktop\\sample\\Module2\\datastructures.ipynb Cell 40\u001b[0m in \u001b[0;36m<cell line: 28>\u001b[1;34m()\u001b[0m\n\u001b[0;32m     <a href='vscode-notebook-cell:/c%3A/Users/User/Desktop/sample/Module2/datastructures.ipynb#X55sZmlsZQ%3D%3D?line=29'>30</a>\u001b[0m \u001b[39mfor\u001b[39;00m row \u001b[39min\u001b[39;00m csvfile:        \n\u001b[0;32m     <a href='vscode-notebook-cell:/c%3A/Users/User/Desktop/sample/Module2/datastructures.ipynb#X55sZmlsZQ%3D%3D?line=30'>31</a>\u001b[0m         \u001b[39mprint\u001b[39m(rows)\n\u001b[1;32m---> <a href='vscode-notebook-cell:/c%3A/Users/User/Desktop/sample/Module2/datastructures.ipynb#X55sZmlsZQ%3D%3D?line=31'>32</a>\u001b[0m prin(\u001b[39m'\u001b[39m\u001b[39mNumber of Rows: \u001b[39m\u001b[39m%d\u001b[39;00m\u001b[39m'\u001b[39m\u001b[39m%\u001b[39m(csvfile\u001b[39m.\u001b[39mline_num))\n",
      "\u001b[1;31mNameError\u001b[0m: name 'prin' is not defined"
     ]
    }
   ],
   "source": [
    "# importing the csv module\n",
    "import csv\n",
    "\n",
    "# field names\n",
    "fields = ['Branch', 'cgpa','name','year']\n",
    "\n",
    "# data rows of csv file\n",
    "mydict =[{'Branch': 'COE', 'cgpa': '9.0', 'name': 'Nikhil', 'year': '2'}, \n",
    "         {'Branch': 'COE', 'cgpa': '9.1', 'name': 'Sanchit', 'year': '2'}, \n",
    "         {'Branch': 'IT', 'cgpa': '9.3', 'name': 'Aditya', 'year': '2'}, \n",
    "         {'Branch': 'SE', 'cgpa': '9.5', 'name': 'Sagar', 'year': '1'}, \n",
    "         {'Branch': 'MCE', 'cgpa': '7.8', 'name': 'Prateek', 'year': '3'}, \n",
    "         {'Branch': 'EP', 'cgpa': '9.1', 'name': 'Sahil', 'year': '2'}] \n",
    "\n",
    "\n",
    "# name of csv file\n",
    "filename = \"kle_university_record.csv\"\n",
    "\n",
    "# writing to csv file\n",
    "with open(filename, 'w') as csvfile:\n",
    "    # creating a csv writer object\n",
    "    csvwriter1 = csv.DictWriter(csvfile,fields)\n",
    "    # writing the fields\n",
    "    csvwriter1.writeheader()\n",
    "    # writing the data rows\n",
    "    csvwriter1.writerows(mydict)\n",
    "\n",
    "with open(filename, 'r') as csvfile:\n",
    "        csvfile=csv.reader(csvfile)\n",
    "        for row in csvfile:        \n",
    "                print(row)\n",
    "        print('Number of Rows: %d'%(csvfile.line_num))"
   ]
  },
  {
   "cell_type": "code",
   "execution_count": null,
   "metadata": {},
   "outputs": [],
   "source": []
  }
 ],
 "metadata": {
  "kernelspec": {
   "display_name": "Python 3.8.5 ('base')",
   "language": "python",
   "name": "python3"
  },
  "language_info": {
   "codemirror_mode": {
    "name": "ipython",
    "version": 3
   },
   "file_extension": ".py",
   "mimetype": "text/x-python",
   "name": "python",
   "nbconvert_exporter": "python",
   "pygments_lexer": "ipython3",
   "version": "3.8.5"
  },
  "orig_nbformat": 4,
  "vscode": {
   "interpreter": {
    "hash": "ad2bdc8ecc057115af97d19610ffacc2b4e99fae6737bb82f5d7fb13d2f2c186"
   }
  }
 },
 "nbformat": 4,
 "nbformat_minor": 2
}
