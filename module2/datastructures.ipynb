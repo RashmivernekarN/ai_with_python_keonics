{
 "cells": [
  {
   "cell_type": "code",
   "execution_count": 1,
   "metadata": {},
   "outputs": [
    {
     "name": "stdout",
     "output_type": "stream",
     "text": [
      "4\n"
     ]
    }
   ],
   "source": [
    "\n",
    "from filecmp import cmp\n",
    "\n",
    "\n",
    "list1=[1,2,3,4]\n",
    "list2=[2,3,4,5]\n",
    "print(len(list1))\n",
    "\n"
   ]
  },
  {
   "cell_type": "code",
   "execution_count": 2,
   "metadata": {},
   "outputs": [
    {
     "name": "stdout",
     "output_type": "stream",
     "text": [
      "4\n"
     ]
    }
   ],
   "source": [
    "list1=[1,2,3,4]\n",
    "list2=[2,3,4,5]\n",
    "print(max(list1))"
   ]
  },
  {
   "cell_type": "code",
   "execution_count": 3,
   "metadata": {},
   "outputs": [
    {
     "name": "stdout",
     "output_type": "stream",
     "text": [
      "1\n"
     ]
    }
   ],
   "source": [
    "list1=[1,2,3,4]\n",
    "list2=[2,3,4,5]\n",
    "print(min(list1))"
   ]
  },
  {
   "cell_type": "code",
   "execution_count": 4,
   "metadata": {},
   "outputs": [
    {
     "name": "stdout",
     "output_type": "stream",
     "text": [
      "(1, 2, 3, 4)\n"
     ]
    }
   ],
   "source": [
    "list1=[1,2,3,4]\n",
    "list2=[2,3,4,5]\n",
    "print(tuple(list1))"
   ]
  },
  {
   "cell_type": "code",
   "execution_count": 5,
   "metadata": {},
   "outputs": [
    {
     "name": "stdout",
     "output_type": "stream",
     "text": [
      "{1, 2, 3, 'Python world'}\n"
     ]
    }
   ],
   "source": [
    "list1=[1,2,3,'Python world']\n",
    "list2=[2,3,4,5]\n",
    "print(set(list1))\n"
   ]
  },
  {
   "cell_type": "code",
   "execution_count": 6,
   "metadata": {},
   "outputs": [
    {
     "name": "stdout",
     "output_type": "stream",
     "text": [
      "[1, 2, 3, 'Python world']\n"
     ]
    }
   ],
   "source": [
    "t1=(1,2,3,'Python world')\n",
    "\n",
    "print(list(t1))"
   ]
  },
  {
   "cell_type": "code",
   "execution_count": 7,
   "metadata": {},
   "outputs": [
    {
     "name": "stdout",
     "output_type": "stream",
     "text": [
      "{1: 2, 2: 3, 3: 4, 'Python world': 5}\n"
     ]
    }
   ],
   "source": [
    "list1=[1,2,3,'Python world']\n",
    "list2=[2,3,4,5]\n",
    "merged = zip(list1,list2)\n",
    "print(dict(merged))"
   ]
  },
  {
   "cell_type": "code",
   "execution_count": 8,
   "metadata": {},
   "outputs": [
    {
     "name": "stdout",
     "output_type": "stream",
     "text": [
      "{1: 2, 2: 3, 3: 4, 'Python world': 5}\n",
      "[1, 2, 3, 'Python world']\n"
     ]
    }
   ],
   "source": [
    "list1=[1,2,3,'Python world']\n",
    "list2=[2,3,4,5]\n",
    "merged = zip(list1,list2)\n",
    "d1=dict(merged)\n",
    "print(d1)\n",
    "print(list(d1))\n",
    "\n",
    "\n"
   ]
  },
  {
   "cell_type": "code",
   "execution_count": 9,
   "metadata": {},
   "outputs": [
    {
     "name": "stdout",
     "output_type": "stream",
     "text": [
      "{1: 'Hubli', 2: 3, 3: 'Dharwad', 'Python world': 5}\n",
      "[1, 'Test', 3, 'Python world']\n"
     ]
    }
   ],
   "source": [
    "list1=[1,2,3,'Python world']\n",
    "list2=[2,3,4,5]\n",
    "list3=[10,20]\n",
    "merged = zip(list1,list2)\n",
    "d1=dict(merged)\n",
    "list1[1]=\"Test\"\n",
    "d1[1]=\"Hubli\"\n",
    "d1.update({3:'Dharwad'})\n",
    "\n",
    "print(d1)\n",
    "print(list1)"
   ]
  },
  {
   "cell_type": "code",
   "execution_count": 10,
   "metadata": {},
   "outputs": [
    {
     "name": "stdout",
     "output_type": "stream",
     "text": [
      "[1, 2, 3, 'Python world']\n",
      "\n"
     ]
    }
   ],
   "source": [
    "list1=[1,2,3,'Python world']\n",
    "list2=[2,3,4,5]\n",
    "list3=[10,20]\n",
    "print(list1)\n",
    "list1.extend(list3)\n",
    "print()"
   ]
  },
  {
   "cell_type": "code",
   "execution_count": 11,
   "metadata": {},
   "outputs": [
    {
     "name": "stdout",
     "output_type": "stream",
     "text": [
      "[2, 3, 4, 5, 4]\n",
      "[2, 3, 10, 4, 5, 4]\n"
     ]
    }
   ],
   "source": [
    "list1=[2,3,4,5,4]\n",
    "print(list1)\n",
    "list1.insert(2,10)\n",
    "print(list1)\n"
   ]
  },
  {
   "cell_type": "code",
   "execution_count": 12,
   "metadata": {},
   "outputs": [
    {
     "name": "stdout",
     "output_type": "stream",
     "text": [
      "[2, 3, 4, 5, 4]\n",
      "[2, 3, 4, 5]\n",
      "[2, 3, 4]\n"
     ]
    }
   ],
   "source": [
    "list1=[2,3,4,5,4]\n",
    "print(list1)\n",
    "list1.pop()\n",
    "print(list1)\n",
    "list1.pop()\n",
    "print(list1)\n"
   ]
  },
  {
   "cell_type": "code",
   "execution_count": 13,
   "metadata": {},
   "outputs": [
    {
     "name": "stdout",
     "output_type": "stream",
     "text": [
      "[2, 3, 4, 5, 4]\n",
      "[2, 3, 5, 4]\n"
     ]
    }
   ],
   "source": [
    "list1=[2,3,4,5,4]\n",
    "print(list1)\n",
    "list1.remove(4)\n",
    "print(list1)"
   ]
  },
  {
   "cell_type": "code",
   "execution_count": 14,
   "metadata": {},
   "outputs": [
    {
     "name": "stdout",
     "output_type": "stream",
     "text": [
      "[2, 3, 5]\n"
     ]
    }
   ],
   "source": [
    "list1.remove(4)\n",
    "print(list1)"
   ]
  },
  {
   "cell_type": "code",
   "execution_count": 15,
   "metadata": {},
   "outputs": [
    {
     "name": "stdout",
     "output_type": "stream",
     "text": [
      "[2, 3, 4, 5, 4]\n",
      "[4, 5, 4, 3, 2]\n"
     ]
    }
   ],
   "source": [
    "list1=[2,3,4,5,4]\n",
    "print(list1)\n",
    "list1.reverse()\n",
    "print(list1)"
   ]
  },
  {
   "cell_type": "code",
   "execution_count": 16,
   "metadata": {},
   "outputs": [
    {
     "name": "stdout",
     "output_type": "stream",
     "text": [
      "[2, 3, 4, 5, 4]\n",
      "[5, 4, 4, 3, 2]\n"
     ]
    }
   ],
   "source": [
    "list1=[2,3,4,5,4]\n",
    "print(list1)\n",
    "list1.sort()\n",
    "list1.reverse()\n",
    "print(list1)"
   ]
  },
  {
   "cell_type": "code",
   "execution_count": 17,
   "metadata": {},
   "outputs": [
    {
     "name": "stdout",
     "output_type": "stream",
     "text": [
      "('Hello', 'Hello', 'Hello')\n"
     ]
    }
   ],
   "source": [
    "Tuple1 = ('Hello',) * 3\n",
    "print(Tuple1)\n"
   ]
  },
  {
   "cell_type": "code",
   "execution_count": 18,
   "metadata": {},
   "outputs": [
    {
     "name": "stdout",
     "output_type": "stream",
     "text": [
      "96 Bytes\n",
      "80 Bytes\n"
     ]
    }
   ],
   "source": [
    "import sys\n",
    "a_list = list()\n",
    "a_tuple = tuple()\n",
    "a_list = [1,2,3,4,5]\n",
    "a_tuple = (1,2,3,4,5)\n",
    "print(sys.getsizeof(a_list),\"Bytes\")\n",
    "print(sys.getsizeof(a_tuple),\"Bytes\")\n"
   ]
  },
  {
   "cell_type": "code",
   "execution_count": 19,
   "metadata": {},
   "outputs": [
    {
     "name": "stdout",
     "output_type": "stream",
     "text": [
      "Enter choice: \n",
      " 1.Push\n",
      " 2.Pop\n",
      " 3.Display\n",
      " 4.Exit\n"
     ]
    }
   ],
   "source": [
    "\n",
    "list1 = []\n",
    "\n",
    "def empty():\n",
    "    print(\"Empty Stack\")\n",
    "\n",
    "def push_data(n):\n",
    "    list1.append(n)\n",
    "\n",
    "def pop_data():\n",
    "    \n",
    "    if len(list1) == 0:\n",
    "        print('No elements to delete')\n",
    "    else:\n",
    "        print(list1[len(list1)-1])\n",
    "        list1.pop()\n",
    "        \n",
    "\n",
    "def display():\n",
    "    if len(list1) == 0:\n",
    "        print('No elements to display')\n",
    "    else:\n",
    "        print(list1)\n",
    "\n",
    "while True:\n",
    "    print(\"Enter choice: \\n 1.Push\\n 2.Pop\\n 3.Display\\n 4.Exit\")\n",
    "    n = int(input(\"Enter the choice : \"))\n",
    "\n",
    "    if n==1:\n",
    "        element=int(input(\"Enter the element : \"))\n",
    "        push_data(element)\n",
    "\n",
    "    elif n==2:\n",
    "        pop_data()\n",
    "\n",
    "    elif n==3:\n",
    "        display()\n",
    "\n",
    "    elif n==4:\n",
    "        break"
   ]
  },
  {
   "cell_type": "code",
   "execution_count": 20,
   "metadata": {},
   "outputs": [
    {
     "name": "stdout",
     "output_type": "stream",
     "text": [
      "List :  96 Bytes\n",
      "Tuple :  80 Bytes\n"
     ]
    }
   ],
   "source": [
    "import sys\n",
    "\n",
    "list1 =['Hello',2,3,4,5.5]\n",
    "tuple1=('Hello',2,3,4,5.5)\n",
    "\n",
    "print('List : ',sys.getsizeof(list1),'Bytes')\n",
    "print('Tuple : ',sys.getsizeof(tuple1),'Bytes')"
   ]
  },
  {
   "cell_type": "code",
   "execution_count": 21,
   "metadata": {},
   "outputs": [
    {
     "name": "stdout",
     "output_type": "stream",
     "text": [
      "{'b', 'c', 'a'}\n",
      "{'b', 'c', 'd', 'a'}\n",
      "{1, 2, 3, 4, 'a', 5, 'd', 'b', 'c'}\n"
     ]
    }
   ],
   "source": [
    "people={'a','b','c'}\n",
    "print(people)\n",
    "people.add('d')\n",
    "print(people)\n",
    "\n",
    "for i in range(1,6):\n",
    "    people.add(i)\n",
    "print(people)"
   ]
  },
  {
   "cell_type": "code",
   "execution_count": 22,
   "metadata": {},
   "outputs": [
    {
     "name": "stdout",
     "output_type": "stream",
     "text": [
      "{'b', 'c', 'a'}\n",
      "{'a', 'e', 'd', 'b', 'c'}\n",
      "{'e', 'd'}\n"
     ]
    }
   ],
   "source": [
    "people = {'a','b','c'}\n",
    "vampire = { 'd','e' }\n",
    "dracula = { 'd','e' }\n",
    "print(people)\n",
    "population = people.union(vampire)\n",
    "print(population)\n",
    "# print(people.union(dracula))\n",
    "print(vampire)\n",
    "# print(population)\n",
    "\n"
   ]
  },
  {
   "cell_type": "code",
   "execution_count": 23,
   "metadata": {},
   "outputs": [
    {
     "name": "stdout",
     "output_type": "stream",
     "text": [
      "{'a', 'e', 'd', 'b', 'c'}\n",
      "{'a', 'e', 'd', 'b', 'c'}\n",
      "{'b', 'c', 'a'}\n"
     ]
    }
   ],
   "source": [
    "people = {'a','b','c'}\n",
    "vampire = { 'd','e' }\n",
    "dracula = { 'd','e' }\n",
    "\n",
    "population = people | dracula\n",
    "print(population)\n",
    "print(people | dracula)\n",
    "print(people)\n"
   ]
  },
  {
   "cell_type": "code",
   "execution_count": 24,
   "metadata": {},
   "outputs": [
    {
     "name": "stdout",
     "output_type": "stream",
     "text": [
      "{3, 4, 5}\n",
      "137656576\n",
      "{0, 1, 2, 3, 4, 5, 6, 7, 8}\n",
      "137656800\n"
     ]
    }
   ],
   "source": [
    "set1= set()\n",
    "set2= set()\n",
    "\n",
    "for i in range(6):\n",
    "    # set1={0,1,2,3,4}\n",
    "    set1.add(i)\n",
    "for i in range(3,9):\n",
    "    # set2={3,4,5,6,7,8}\n",
    "    set2.add(i)\n",
    "set3= set1.intersection(set2)\n",
    "print(set3)\n",
    "print(id(set3))\n",
    "set3= set1 | set2\n",
    "print(set3)\n",
    "print(id(set3))"
   ]
  },
  {
   "cell_type": "code",
   "execution_count": 25,
   "metadata": {},
   "outputs": [
    {
     "name": "stdout",
     "output_type": "stream",
     "text": [
      "set1= {0, 1, 2, 3, 4}\n",
      "set2= {3, 4, 5, 6, 7, 8}\n",
      "{0, 1, 2}\n",
      "{8, 5, 6, 7}\n"
     ]
    },
    {
     "ename": "TypeError",
     "evalue": "unsupported operand type(s) for |: 'list' and 'set'",
     "output_type": "error",
     "traceback": [
      "\u001b[1;31m---------------------------------------------------------------------------\u001b[0m",
      "\u001b[1;31mTypeError\u001b[0m                                 Traceback (most recent call last)",
      "\u001b[1;32mc:\\Users\\User\\Desktop\\sample\\Module2\\datastructures.ipynb Cell 25\u001b[0m in \u001b[0;36m<cell line: 19>\u001b[1;34m()\u001b[0m\n\u001b[0;32m     <a href='vscode-notebook-cell:/c%3A/Users/User/Desktop/sample/Module2/datastructures.ipynb#X33sZmlsZQ%3D%3D?line=15'>16</a>\u001b[0m \u001b[39mprint\u001b[39m(set3)\n\u001b[0;32m     <a href='vscode-notebook-cell:/c%3A/Users/User/Desktop/sample/Module2/datastructures.ipynb#X33sZmlsZQ%3D%3D?line=17'>18</a>\u001b[0m list1\u001b[39m=\u001b[39m[\u001b[39m1\u001b[39m,\u001b[39m2\u001b[39m,\u001b[39m3\u001b[39m,\u001b[39m4\u001b[39m]\n\u001b[1;32m---> <a href='vscode-notebook-cell:/c%3A/Users/User/Desktop/sample/Module2/datastructures.ipynb#X33sZmlsZQ%3D%3D?line=18'>19</a>\u001b[0m set3 \u001b[39m=\u001b[39m list1 \u001b[39m|\u001b[39;49m set1\n\u001b[0;32m     <a href='vscode-notebook-cell:/c%3A/Users/User/Desktop/sample/Module2/datastructures.ipynb#X33sZmlsZQ%3D%3D?line=19'>20</a>\u001b[0m \u001b[39mprint\u001b[39m(set3)\n\u001b[0;32m     <a href='vscode-notebook-cell:/c%3A/Users/User/Desktop/sample/Module2/datastructures.ipynb#X33sZmlsZQ%3D%3D?line=20'>21</a>\u001b[0m \u001b[39mprint\u001b[39m(\u001b[39m\"\u001b[39m\u001b[39m_______________________\u001b[39m\u001b[39m\"\u001b[39m)\n",
      "\u001b[1;31mTypeError\u001b[0m: unsupported operand type(s) for |: 'list' and 'set'"
     ]
    }
   ],
   "source": [
    "set1= set()\n",
    "set2= set()\n",
    "\n",
    "for i in range(5):\n",
    "    # 0,1,2,3,4\n",
    "    set1.add(i) \n",
    "print(\"set1=\",set1)\n",
    "for i in range(3,9):\n",
    "    # 3,4,5,6,7,8\n",
    "    set2.add(i)\n",
    "print(\"set2=\",set2)\n",
    "\n",
    "set3 = set1 - set2\n",
    "print(set3)\n",
    "set3 = set2 - set1\n",
    "print(set3)\n",
    "\n",
    "list1=[1,2,3,4]\n",
    "set3 = list1 | set1\n",
    "print(set3)\n",
    "print(\"_______________________\")\n",
    "set3 = set1.add(list1 )\n",
    "print(set3)\n",
    "\n"
   ]
  },
  {
   "cell_type": "code",
   "execution_count": null,
   "metadata": {},
   "outputs": [
    {
     "name": "stdout",
     "output_type": "stream",
     "text": [
      "Set 1 is not subset\n",
      "Set 1 is proper subset\n"
     ]
    }
   ],
   "source": [
    "from tkinter import E\n",
    "\n",
    "\n",
    "set1= set()\n",
    "set2= set()\n",
    "\n",
    "for i in range(5):\n",
    "    # set1={0,1,2,3,4}\n",
    "    set1.add(i) \n",
    "    \n",
    "for i in range(3,9):\n",
    "    # set2={3,4,5,6,7,8}\n",
    "    set2.add(i)\n",
    "if set1 < set2:\n",
    "    print(\"Set 1 is subset\")\n",
    "else:\n",
    "    print('Set 1 is not subset')\n",
    "    \n",
    "    \n",
    "thistuple1 = (\"apple\", \"banana\", \"cherry\", \"apple\")\n",
    "thistuple2 = ( \"banana\", \"Orange\", \"apple\", \"cherry\")\n",
    "if thistuple1 != thistuple2:\n",
    "    print(\"Set 1 is proper subset\")\n",
    "else:\n",
    "    print('Set 1 is not subset')\n",
    "    "
   ]
  },
  {
   "cell_type": "code",
   "execution_count": null,
   "metadata": {},
   "outputs": [
    {
     "name": "stdout",
     "output_type": "stream",
     "text": [
      "{1: 'Python', 2: 'Java', 3: 'Ruby', 4: 'Scala'}\n",
      "..............................\n",
      "{}\n",
      "..............................\n",
      "Python\n",
      "..............................\n",
      "dict_items([(1, 'Python'), (2, 'Java'), (3, 'Ruby'), (4, 'Scala')])\n",
      "..............................\n",
      "dict_keys([1, 2, 3, 4])\n",
      "..............................\n",
      "{1: 'Python', 2: 'Java', 3: 'Ruby'}\n",
      "..............................\n",
      "{1: 'Python', 2: 'Java'}\n",
      "..............................\n",
      "{1: 'Python', 2: 'Java', 3: 'Scala'}\n",
      "..............................\n",
      "dict_values(['Python', 'Java', 'Scala'])\n"
     ]
    }
   ],
   "source": [
    "# demo for all dictionary methods\n",
    "dict1 = {1: \"Python\", 2: \"Java\", 3: \"Ruby\", 4: \"Scala\"}\n",
    "# copy() method\n",
    "dict2 = dict1.copy()\n",
    "print(dict2)\n",
    "print(\"..............................\")\n",
    "# clear() method\n",
    "dict1.clear()\n",
    "print(dict1)\n",
    "print(\"..............................\")\n",
    "# get() method\n",
    "print(dict2.get(1))\n",
    "print(\"..............................\")\n",
    "# items() method\n",
    "print(dict2.items())\n",
    "print(\"..............................\")\n",
    "# keys() method\n",
    "print(dict2.keys())\n",
    "print(\"..............................\")\n",
    "# pop() method\n",
    "dict2.pop(4)\n",
    "print(dict2)\n",
    "print(\"..............................\")\n",
    "# popitem() method\n",
    "dict2.popitem()\n",
    "print(dict2)\n",
    "print(\"..............................\")\n",
    "# update() method\n",
    "dict2.update({3: \"Scala\"})\n",
    "print(dict2)\n",
    "print(\"..............................\")\n",
    "# values() method\n",
    "print(dict2.values())\n",
    "\n"
   ]
  },
  {
   "cell_type": "markdown",
   "metadata": {},
   "source": [
    "Set with loops"
   ]
  },
  {
   "cell_type": "code",
   "execution_count": null,
   "metadata": {},
   "outputs": [
    {
     "name": "stdout",
     "output_type": "stream",
     "text": [
      "Python\n",
      " enumeration\n",
      "0 P , 1 y , 2 t , 3 h , 4 o , 5 n , "
     ]
    }
   ],
   "source": [
    "test_set={'Python'}\n",
    "\n",
    "for val in test_set:\n",
    "    print(val,end=\"\")\n",
    "\n",
    "\n",
    "print(\"\\n enumeration\")\n",
    "test_set=('Python')\n",
    "\n",
    "for id,val in enumerate(test_set):\n",
    "    print(id,val,end=\" , \")\n",
    "    "
   ]
  },
  {
   "cell_type": "code",
   "execution_count": null,
   "metadata": {},
   "outputs": [
    {
     "name": "stdout",
     "output_type": "stream",
     "text": [
      "Get: 20\n"
     ]
    }
   ],
   "source": [
    "print(\"Get: %d\" %(20.1))"
   ]
  },
  {
   "cell_type": "code",
   "execution_count": null,
   "metadata": {},
   "outputs": [
    {
     "name": "stdout",
     "output_type": "stream",
     "text": [
      "value:  10001, float value: 342.3\n",
      "    011\n",
      "1.23456789020000004768E+09\n"
     ]
    }
   ],
   "source": [
    "print(\"value:  %2d, float value: %1.1f\" %(10001,342.333))\n",
    "print(\"%7.3o\" %(9))\n",
    "print(\"%10.20E\"%(1234567890.20))"
   ]
  },
  {
   "cell_type": "code",
   "execution_count": 27,
   "metadata": {},
   "outputs": [],
   "source": [
    "with open('myfile.txt') as file1:\n",
    "    data = file1.read()"
   ]
  },
  {
   "cell_type": "code",
   "execution_count": 28,
   "metadata": {},
   "outputs": [
    {
     "name": "stdout",
     "output_type": "stream",
     "text": [
      "Second element = 2\n",
      "element can't be fetched the length of list a is limited = 3\n"
     ]
    }
   ],
   "source": [
    "a = [1, 2, 3]\n",
    "try: \n",
    "    print (\"Second element = %d\" %(a[1]))\n",
    "    # Throws error since there are only 3 elements in array\n",
    "    print (\"Fourth element = %d\" %(a[3]))\n",
    "\n",
    "except:\n",
    "    print (\"element can't be fetched the length of list a is limited = %d\"%(len(a)))\n"
   ]
  },
  {
   "cell_type": "markdown",
   "metadata": {},
   "source": [
    "30th Aug 2022 Class"
   ]
  },
  {
   "cell_type": "code",
   "execution_count": 29,
   "metadata": {},
   "outputs": [
    {
     "name": "stdout",
     "output_type": "stream",
     "text": [
      "<_csv.reader object at 0x000000000802F340>\n",
      "Purple Hearts\n",
      "Nikamma\n",
      "Radhe Shyam (Hindi)\n",
      "Look Both Ways\n",
      "The Royal Treatment\n",
      "Badhaai Do\n",
      "Wedding Season\n",
      "Persuasion\n",
      "Love Tactics\n",
      "The Entitled\n",
      "Hurdang\n",
      "A Perfect Pairing\n",
      "Hey Sinamika (Hindi)\n",
      "Heartsong\n",
      "Doom of Love\n",
      "Love and Leashes\n",
      "Don’t Blame Karma!\n",
      "In Good Hands\n",
      "Ante Sundaraniki (Tamil)\n",
      "Fast & Feel Love\n",
      "Heart Parade\n",
      "Hey Sinamika\n",
      "Toscana\n",
      "AI Love You\n"
     ]
    }
   ],
   "source": [
    "import csv\n",
    "\n",
    "with open('netflix.csv',mode='r') as opened_file_ref:\n",
    "    csvfile=csv.reader(opened_file_ref)\n",
    "    print(csvfile)\n",
    "\n",
    "    for data in csvfile:\n",
    "        if data[4] == 'Romantic Movies' and data[1] == '2022':\n",
    "            print(data[0])\n"
   ]
  },
  {
   "cell_type": "code",
   "execution_count": null,
   "metadata": {},
   "outputs": [],
   "source": [
    "import csv\n",
    " \n",
    "# my data rows as dictionary objects\n",
    "mydict =[{'branch': 'COE', 'cgpa': '9.0',\n",
    "          'name': 'Nikhil', 'year': '2'},\n",
    "        {'branch': 'COE', 'cgpa': '9.1',\n",
    "         'name': 'Sanchit', 'year': '2'},\n",
    "        {'branch': 'IT', 'cgpa': '9.3',\n",
    "         'name': 'Aditya', 'year': '2'},\n",
    "        {'branch': 'SE', 'cgpa': '9.5',\n",
    "         'name': 'Sagar', 'year': '1'},\n",
    "        {'branch': 'MCE', 'cgpa': '7.8',\n",
    "         'name': 'Prateek', 'year': '3'},\n",
    "        {'branch': 'EP', 'cgpa': '9.1',\n",
    "         'name': 'Sahil', 'year': '2'}]\n",
    " \n",
    "# field names\n",
    "fields = ['name', 'branch', 'year', 'cgpa']\n",
    " \n",
    "# name of csv file\n",
    "filename = \"university_records.csv\"\n",
    " \n",
    "# writing to csv file\n",
    "with open(filename, 'w') as csvfile:\n",
    "    # creating a csv dict writer object\n",
    "    writer = csv.DictWriter(csvfile, fieldnames = fields)\n",
    "     \n",
    "    # writing headers (field names)\n",
    "    writer.writeheader()\n",
    "     \n",
    "    # writing data rows\n",
    "    writer.writerows(mydict)"
   ]
  },
  {
   "cell_type": "code",
   "execution_count": 30,
   "metadata": {},
   "outputs": [],
   "source": [
    "# importing the csv module\n",
    "import csv\n",
    "\n",
    "# field names\n",
    "fields = ['Name', 'Email']\n",
    "\n",
    "# data rows of csv file\n",
    "rows = [ ['Nikhil', 'nikhil.gfg@gmail.com'],\n",
    "        ['Sanchit', 'sanchit.gfg@gmail.com'],\n",
    "        ['Aditya', 'aditya.gfg@gmail.com'],\n",
    "        ['Sagar', 'sagar.gfg@gmail.com'],\n",
    "        ['Prateek', 'prateek.gfg@gmail.com'],\n",
    "        ['Sahil', 'sahil.gfg@gmail.com']]\n",
    "\n",
    "# name of csv file\n",
    "filename = \"email_records1.csv\"\n",
    "\n",
    "# writing to csv file\n",
    "with open(filename, 'w') as csvfile:\n",
    "    # creating a csv writer object\n",
    "    csvwriter = csv.writer(csvfile)\n",
    "    # writing the fields\n",
    "    csvwriter.writerow(fields)\n",
    "    # writing the data rows\n",
    "    csvwriter.writerows(rows)"
   ]
  }
 ],
 "metadata": {
  "kernelspec": {
   "display_name": "Python 3.8.5 ('base')",
   "language": "python",
   "name": "python3"
  },
  "language_info": {
   "codemirror_mode": {
    "name": "ipython",
    "version": 3
   },
   "file_extension": ".py",
   "mimetype": "text/x-python",
   "name": "python",
   "nbconvert_exporter": "python",
   "pygments_lexer": "ipython3",
   "version": "3.8.5"
  },
  "orig_nbformat": 4,
  "vscode": {
   "interpreter": {
    "hash": "ad2bdc8ecc057115af97d19610ffacc2b4e99fae6737bb82f5d7fb13d2f2c186"
   }
  }
 },
 "nbformat": 4,
 "nbformat_minor": 2
}
