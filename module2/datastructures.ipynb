{
 "cells": [
  {
   "cell_type": "code",
   "execution_count": 8,
   "metadata": {},
   "outputs": [
    {
     "name": "stdout",
     "output_type": "stream",
     "text": [
      "4\n"
     ]
    }
   ],
   "source": [
    "\n",
    "from filecmp import cmp\n",
    "\n",
    "\n",
    "list1=[1,2,3,4]\n",
    "list2=[2,3,4,5]\n",
    "print(len(list1))\n",
    "\n"
   ]
  },
  {
   "cell_type": "code",
   "execution_count": 9,
   "metadata": {},
   "outputs": [
    {
     "name": "stdout",
     "output_type": "stream",
     "text": [
      "4\n"
     ]
    }
   ],
   "source": [
    "list1=[1,2,3,4]\n",
    "list2=[2,3,4,5]\n",
    "print(max(list1))"
   ]
  },
  {
   "cell_type": "code",
   "execution_count": 10,
   "metadata": {},
   "outputs": [
    {
     "name": "stdout",
     "output_type": "stream",
     "text": [
      "1\n"
     ]
    }
   ],
   "source": [
    "list1=[1,2,3,4]\n",
    "list2=[2,3,4,5]\n",
    "print(min(list1))"
   ]
  },
  {
   "cell_type": "code",
   "execution_count": 11,
   "metadata": {},
   "outputs": [
    {
     "name": "stdout",
     "output_type": "stream",
     "text": [
      "(1, 2, 3, 4)\n"
     ]
    }
   ],
   "source": [
    "list1=[1,2,3,4]\n",
    "list2=[2,3,4,5]\n",
    "print(tuple(list1))"
   ]
  },
  {
   "cell_type": "code",
   "execution_count": 13,
   "metadata": {},
   "outputs": [
    {
     "name": "stdout",
     "output_type": "stream",
     "text": [
      "{'Python world', 1, 2, 3}\n"
     ]
    }
   ],
   "source": [
    "list1=[1,2,3,'Python world']\n",
    "list2=[2,3,4,5]\n",
    "print(set(list1))\n"
   ]
  },
  {
   "cell_type": "code",
   "execution_count": 14,
   "metadata": {},
   "outputs": [
    {
     "name": "stdout",
     "output_type": "stream",
     "text": [
      "[1, 2, 3, 'Python world']\n"
     ]
    }
   ],
   "source": [
    "t1=(1,2,3,'Python world')\n",
    "\n",
    "print(list(t1))"
   ]
  },
  {
   "cell_type": "code",
   "execution_count": 16,
   "metadata": {},
   "outputs": [
    {
     "name": "stdout",
     "output_type": "stream",
     "text": [
      "{1: 2, 2: 3, 3: 4, 'Python world': 5}\n"
     ]
    }
   ],
   "source": [
    "list1=[1,2,3,'Python world']\n",
    "list2=[2,3,4,5]\n",
    "merged = zip(list1,list2)\n",
    "print(dict(merged))"
   ]
  },
  {
   "cell_type": "code",
   "execution_count": 18,
   "metadata": {},
   "outputs": [
    {
     "name": "stdout",
     "output_type": "stream",
     "text": [
      "{1: 2, 2: 3, 3: 4, 'Python world': 5}\n",
      "[1, 2, 3, 'Python world']\n"
     ]
    }
   ],
   "source": [
    "list1=[1,2,3,'Python world']\n",
    "list2=[2,3,4,5]\n",
    "merged = zip(list1,list2)\n",
    "d1=dict(merged)\n",
    "print(d1)\n",
    "print(list(d1))\n",
    "\n",
    "\n"
   ]
  },
  {
   "cell_type": "code",
   "execution_count": 63,
   "metadata": {},
   "outputs": [
    {
     "name": "stdout",
     "output_type": "stream",
     "text": [
      "{1: 'Hubli', 2: 3, 3: 'Dharwad', 'Python world': 5}\n",
      "[1, 'Test', 3, 'Python world']\n"
     ]
    }
   ],
   "source": [
    "list1=[1,2,3,'Python world']\n",
    "list2=[2,3,4,5]\n",
    "list3=[10,20]\n",
    "merged = zip(list1,list2)\n",
    "d1=dict(merged)\n",
    "list1[1]=\"Test\"\n",
    "d1[1]=\"Hubli\"\n",
    "d1.update({3:'Dharwad'})\n",
    "\n",
    "print(d1)\n",
    "print(list1)"
   ]
  },
  {
   "cell_type": "code",
   "execution_count": 68,
   "metadata": {},
   "outputs": [
    {
     "name": "stdout",
     "output_type": "stream",
     "text": [
      "[1, 2, 3, 'Python world']\n",
      "[1, 2, 3, 'Python world', 10, 20]\n",
      "143490304\n"
     ]
    }
   ],
   "source": [
    "list1=[1,2,3,'Python world']\n",
    "list2=[2,3,4,5]\n",
    "list3=[10,20]\n",
    "print(list1)\n",
    "list1.extend(list3)\n",
    "print()"
   ]
  },
  {
   "cell_type": "code",
   "execution_count": 73,
   "metadata": {},
   "outputs": [
    {
     "name": "stdout",
     "output_type": "stream",
     "text": [
      "[2, 3, 4, 5, 4]\n",
      "[2, 3, 10, 4, 5, 4]\n"
     ]
    }
   ],
   "source": [
    "list1=[2,3,4,5,4]\n",
    "print(list1)\n",
    "list1.insert(2,10)\n",
    "print(list1)\n"
   ]
  },
  {
   "cell_type": "code",
   "execution_count": 76,
   "metadata": {},
   "outputs": [
    {
     "name": "stdout",
     "output_type": "stream",
     "text": [
      "[2, 3, 4, 5, 4]\n",
      "[2, 3, 4, 5]\n",
      "[2, 3, 4]\n"
     ]
    }
   ],
   "source": [
    "list1=[2,3,4,5,4]\n",
    "print(list1)\n",
    "list1.pop()\n",
    "print(list1)\n",
    "list1.pop()\n",
    "print(list1)\n"
   ]
  },
  {
   "cell_type": "code",
   "execution_count": 77,
   "metadata": {},
   "outputs": [
    {
     "name": "stdout",
     "output_type": "stream",
     "text": [
      "[2, 3, 4, 5, 4]\n",
      "[2, 3, 5, 4]\n"
     ]
    }
   ],
   "source": [
    "list1=[2,3,4,5,4]\n",
    "print(list1)\n",
    "list1.remove(4)\n",
    "print(list1)"
   ]
  },
  {
   "cell_type": "code",
   "execution_count": 78,
   "metadata": {},
   "outputs": [
    {
     "name": "stdout",
     "output_type": "stream",
     "text": [
      "[2, 3, 5]\n"
     ]
    }
   ],
   "source": [
    "list1.remove(4)\n",
    "print(list1)"
   ]
  },
  {
   "cell_type": "code",
   "execution_count": 83,
   "metadata": {},
   "outputs": [
    {
     "name": "stdout",
     "output_type": "stream",
     "text": [
      "[2, 3, 4, 5, 4]\n",
      "[4, 5, 4, 3, 2]\n"
     ]
    }
   ],
   "source": [
    "list1=[2,3,4,5,4]\n",
    "print(list1)\n",
    "list1.reverse()\n",
    "print(list1)"
   ]
  },
  {
   "cell_type": "code",
   "execution_count": 85,
   "metadata": {},
   "outputs": [
    {
     "name": "stdout",
     "output_type": "stream",
     "text": [
      "[2, 3, 4, 5, 4]\n",
      "[5, 4, 4, 3, 2]\n"
     ]
    }
   ],
   "source": [
    "list1=[2,3,4,5,4]\n",
    "print(list1)\n",
    "list1.sort()\n",
    "list1.reverse()\n",
    "print(list1)"
   ]
  },
  {
   "cell_type": "code",
   "execution_count": 87,
   "metadata": {},
   "outputs": [
    {
     "name": "stdout",
     "output_type": "stream",
     "text": [
      "('Geeks', 'Geeks', 'Geeks')\n"
     ]
    }
   ],
   "source": [
    "Tuple1 = ('Hello',) * 3\n",
    "print(Tuple1)\n"
   ]
  },
  {
   "cell_type": "code",
   "execution_count": 91,
   "metadata": {},
   "outputs": [
    {
     "name": "stdout",
     "output_type": "stream",
     "text": [
      "96 Bytes\n",
      "80 Bytes\n"
     ]
    }
   ],
   "source": [
    "import sys\n",
    "a_list = list()\n",
    "a_tuple = tuple()\n",
    "a_list = [1,2,3,4,5]\n",
    "a_tuple = (1,2,3,4,5)\n",
    "print(sys.getsizeof(a_list),\"Bytes\")\n",
    "print(sys.getsizeof(a_tuple),\"Bytes\")\n"
   ]
  },
  {
   "cell_type": "code",
   "execution_count": 99,
   "metadata": {},
   "outputs": [
    {
     "name": "stdout",
     "output_type": "stream",
     "text": [
      "Enter choice: \n",
      " 1.Push\n",
      " 2.Pop\n",
      " 3.Display\n",
      " 4.Exit\n",
      "Enter choice: \n",
      " 1.Push\n",
      " 2.Pop\n",
      " 3.Display\n",
      " 4.Exit\n",
      "[10]\n",
      "Enter choice: \n",
      " 1.Push\n",
      " 2.Pop\n",
      " 3.Display\n",
      " 4.Exit\n",
      "Enter choice: \n",
      " 1.Push\n",
      " 2.Pop\n",
      " 3.Display\n",
      " 4.Exit\n",
      "[10, 20]\n",
      "Enter choice: \n",
      " 1.Push\n",
      " 2.Pop\n",
      " 3.Display\n",
      " 4.Exit\n",
      "20\n",
      "Enter choice: \n",
      " 1.Push\n",
      " 2.Pop\n",
      " 3.Display\n",
      " 4.Exit\n",
      "10\n",
      "Enter choice: \n",
      " 1.Push\n",
      " 2.Pop\n",
      " 3.Display\n",
      " 4.Exit\n",
      "No elements to delete\n",
      "Enter choice: \n",
      " 1.Push\n",
      " 2.Pop\n",
      " 3.Display\n",
      " 4.Exit\n",
      "No elements to delete\n",
      "Enter choice: \n",
      " 1.Push\n",
      " 2.Pop\n",
      " 3.Display\n",
      " 4.Exit\n",
      "No elements to display\n",
      "Enter choice: \n",
      " 1.Push\n",
      " 2.Pop\n",
      " 3.Display\n",
      " 4.Exit\n",
      "No elements to display\n",
      "Enter choice: \n",
      " 1.Push\n",
      " 2.Pop\n",
      " 3.Display\n",
      " 4.Exit\n"
     ]
    }
   ],
   "source": [
    "\n",
    "list1 = []\n",
    "\n",
    "def empty():\n",
    "    print(\"Empty Stack\")\n",
    "\n",
    "def push_data(n):\n",
    "    list1.append(n)\n",
    "\n",
    "def pop_data():\n",
    "    \n",
    "    if len(list1) == 0:\n",
    "        print('No elements to delete')\n",
    "    else:\n",
    "        print(list1[len(list1)-1])\n",
    "        list1.pop()\n",
    "        \n",
    "\n",
    "def display():\n",
    "    if len(list1) == 0:\n",
    "        print('No elements to display')\n",
    "    else:\n",
    "        print(list1)\n",
    "\n",
    "while True:\n",
    "    print(\"Enter choice: \\n 1.Push\\n 2.Pop\\n 3.Display\\n 4.Exit\")\n",
    "    n = int(input(\"Enter the choice : \"))\n",
    "\n",
    "    if n==1:\n",
    "        element=int(input(\"Enter the element : \"))\n",
    "        push_data(element)\n",
    "\n",
    "    elif n==2:\n",
    "        pop_data()\n",
    "\n",
    "    elif n==3:\n",
    "        display()\n",
    "\n",
    "    elif n==4:\n",
    "        break"
   ]
  }
 ],
 "metadata": {
  "kernelspec": {
   "display_name": "Python 3.8.5 ('base')",
   "language": "python",
   "name": "python3"
  },
  "language_info": {
   "codemirror_mode": {
    "name": "ipython",
    "version": 3
   },
   "file_extension": ".py",
   "mimetype": "text/x-python",
   "name": "python",
   "nbconvert_exporter": "python",
   "pygments_lexer": "ipython3",
   "version": "3.8.5"
  },
  "orig_nbformat": 4,
  "vscode": {
   "interpreter": {
    "hash": "ad2bdc8ecc057115af97d19610ffacc2b4e99fae6737bb82f5d7fb13d2f2c186"
   }
  }
 },
 "nbformat": 4,
 "nbformat_minor": 2
}
