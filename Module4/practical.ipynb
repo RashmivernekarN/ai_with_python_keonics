{
 "cells": [
  {
   "cell_type": "markdown",
   "metadata": {},
   "source": [
    "1 dimensional array on numpy"
   ]
  },
  {
   "cell_type": "code",
   "execution_count": 1,
   "metadata": {},
   "outputs": [
    {
     "name": "stdout",
     "output_type": "stream",
     "text": [
      "[1 2 3]\n"
     ]
    }
   ],
   "source": [
    "import numpy as np\n",
    "\n",
    "a=np.array([1,2,3])\n",
    "print (a)\n"
   ]
  },
  {
   "cell_type": "markdown",
   "metadata": {},
   "source": [
    "2 dimensional array in numpy"
   ]
  },
  {
   "cell_type": "code",
   "execution_count": 2,
   "metadata": {},
   "outputs": [
    {
     "name": "stdout",
     "output_type": "stream",
     "text": [
      "[[1 2]\n",
      " [3 4]]\n"
     ]
    }
   ],
   "source": [
    "import numpy as np\n",
    "\n",
    "a=np.array([[1,2],[3,4]])\n",
    "print (a)"
   ]
  },
  {
   "cell_type": "code",
   "execution_count": 3,
   "metadata": {},
   "outputs": [
    {
     "name": "stdout",
     "output_type": "stream",
     "text": [
      "[[[1 2 3]\n",
      "  [4 5 6]]\n",
      "\n",
      " [[1 2 3]\n",
      "  [4 5 6]]]\n"
     ]
    }
   ],
   "source": [
    "import numpy as np\n",
    "arr = np.array([[[1,2,3],[4,5,6]],[[1,2,3],[4,5,6]]])\n",
    "print(arr)"
   ]
  },
  {
   "cell_type": "markdown",
   "metadata": {},
   "source": [
    "5D Array of numpy"
   ]
  },
  {
   "cell_type": "code",
   "execution_count": 4,
   "metadata": {},
   "outputs": [
    {
     "name": "stdout",
     "output_type": "stream",
     "text": [
      "[[[[[1 2 3 4]]]]]\n"
     ]
    }
   ],
   "source": [
    "import numpy as np\n",
    "arr = np.array([1,2,3,4],ndmin=5)\n",
    "print(arr)"
   ]
  },
  {
   "cell_type": "markdown",
   "metadata": {},
   "source": [
    "Check dimesion of array"
   ]
  },
  {
   "cell_type": "code",
   "execution_count": 5,
   "metadata": {},
   "outputs": [
    {
     "name": "stdout",
     "output_type": "stream",
     "text": [
      "0\n",
      "1\n"
     ]
    }
   ],
   "source": [
    "import numpy as np \n",
    "a=np.array(42)\n",
    "b = np.array([1,2,3,4,5])\n",
    "print(a.ndim)\n",
    "print(b.ndim)\n"
   ]
  },
  {
   "cell_type": "markdown",
   "metadata": {},
   "source": [
    "find the shape of array"
   ]
  },
  {
   "cell_type": "code",
   "execution_count": 6,
   "metadata": {},
   "outputs": [
    {
     "name": "stdout",
     "output_type": "stream",
     "text": [
      "(1, 4)\n"
     ]
    }
   ],
   "source": [
    "arr=np.array([[1,3,4,5]])\n",
    "print(arr.shape)"
   ]
  },
  {
   "cell_type": "markdown",
   "metadata": {},
   "source": [
    "Matrix operations helping functions"
   ]
  },
  {
   "cell_type": "code",
   "execution_count": 7,
   "metadata": {},
   "outputs": [
    {
     "name": "stdout",
     "output_type": "stream",
     "text": [
      "[0. 0. 0. 0. 0.]\n",
      "[1. 1. 1. 1. 1.]\n",
      "[1 2 3]\n"
     ]
    }
   ],
   "source": [
    "import numpy as np\n",
    "print(np.zeros(5))\n",
    "print(np.ones(5))\n",
    "print(np.arange(1,4))\n"
   ]
  },
  {
   "cell_type": "markdown",
   "metadata": {},
   "source": [
    "Sorting Arrays np.sort()"
   ]
  },
  {
   "cell_type": "code",
   "execution_count": 8,
   "metadata": {},
   "outputs": [
    {
     "data": {
      "text/plain": [
       "array([0, 1, 2, 3, 4, 5, 7, 8, 9])"
      ]
     },
     "execution_count": 8,
     "metadata": {},
     "output_type": "execute_result"
    }
   ],
   "source": [
    "import numpy as np\n",
    "\n",
    "arr = np.array([2,4,1,5,7,9,8,0,3])\n",
    "np.sort(arr)"
   ]
  },
  {
   "cell_type": "markdown",
   "metadata": {},
   "source": [
    "Alphabetic sort"
   ]
  },
  {
   "cell_type": "code",
   "execution_count": 9,
   "metadata": {},
   "outputs": [
    {
     "data": {
      "text/plain": [
       "array(['Apple', 'Banana', 'Citrus Fruit', 'Grapes', 'Mango'], dtype='<U12')"
      ]
     },
     "execution_count": 9,
     "metadata": {},
     "output_type": "execute_result"
    }
   ],
   "source": [
    "arr=np.array(['Banana','Apple','Citrus Fruit','Mango','Grapes'])\n",
    "np.sort(arr)"
   ]
  },
  {
   "cell_type": "markdown",
   "metadata": {},
   "source": [
    "Access arrays in numpy"
   ]
  },
  {
   "cell_type": "code",
   "execution_count": 10,
   "metadata": {},
   "outputs": [
    {
     "name": "stdout",
     "output_type": "stream",
     "text": [
      "1\n",
      "[1 2]\n",
      "[2 3]\n",
      "[1 2]\n"
     ]
    }
   ],
   "source": [
    "import numpy as np\n",
    "data = np.array([1,2,3])\n",
    "print(data[0])\n",
    "print(data[0:2])\n",
    "print(data[1:])\n",
    "print(data[:2])"
   ]
  },
  {
   "cell_type": "code",
   "execution_count": 11,
   "metadata": {},
   "outputs": [
    {
     "name": "stdout",
     "output_type": "stream",
     "text": [
      "[90 70 20 35]\n"
     ]
    }
   ],
   "source": [
    "import numpy as np\n",
    "arr= np.array([90,50,70,10,20,60,35])\n",
    "print(arr[0:7:2])\n"
   ]
  },
  {
   "cell_type": "code",
   "execution_count": 12,
   "metadata": {},
   "outputs": [
    {
     "name": "stdout",
     "output_type": "stream",
     "text": [
      "[4 5]\n"
     ]
    }
   ],
   "source": [
    "import numpy as np\n",
    "arr= np.array([[1,2,3,4,5],[6,7,8,9,10]])\n",
    "print(arr[0,3:5])"
   ]
  },
  {
   "cell_type": "code",
   "execution_count": 13,
   "metadata": {},
   "outputs": [
    {
     "name": "stdout",
     "output_type": "stream",
     "text": [
      "(array([3, 5, 6], dtype=int64),)\n",
      "(array([1, 3, 5, 7], dtype=int64),)\n"
     ]
    }
   ],
   "source": [
    "import numpy as np\n",
    "arr=np.array([1,2,3,40,5,40,40])\n",
    "x = np.where(arr == 40)\n",
    "print(x)\n",
    "arr = np.array([10,20,30,40,50,60,70,80])\n",
    "x=np.where(arr%4==0)\n",
    "print(x)\n"
   ]
  },
  {
   "cell_type": "code",
   "execution_count": 14,
   "metadata": {},
   "outputs": [
    {
     "name": "stdout",
     "output_type": "stream",
     "text": [
      "1\n"
     ]
    }
   ],
   "source": [
    "arr=np.array([6,20,9,19,0])\n",
    "x=np.searchsorted(arr,7)\n",
    "print(x)"
   ]
  },
  {
   "cell_type": "markdown",
   "metadata": {},
   "source": [
    "Reshaping array"
   ]
  },
  {
   "cell_type": "code",
   "execution_count": 15,
   "metadata": {},
   "outputs": [
    {
     "name": "stdout",
     "output_type": "stream",
     "text": [
      "[[ 1  2  3]\n",
      " [ 4  5  6]\n",
      " [ 7  8  9]\n",
      " [10 11 12]]\n",
      "[1 2 3 4 5 6]\n"
     ]
    }
   ],
   "source": [
    "import numpy as np\n",
    "\n",
    "arr=np.array([1,2,3,4,5,6,7,8,9,10,11,12])\n",
    "newarr = arr.reshape(4,3)\n",
    "print(newarr)\n",
    "arr=np.array([[1,2,3],[4,5,6]])\n",
    "newarr= arr.reshape(-1)\n",
    "print(newarr)\n"
   ]
  },
  {
   "cell_type": "markdown",
   "metadata": {},
   "source": [
    "Filtering an array"
   ]
  },
  {
   "cell_type": "code",
   "execution_count": 16,
   "metadata": {},
   "outputs": [
    {
     "name": "stdout",
     "output_type": "stream",
     "text": [
      "[41 42 43]\n"
     ]
    }
   ],
   "source": [
    "from operator import truediv\n",
    "\n",
    "\n",
    "arr=np.array([41,42,43,44])\n",
    "x=[True,True,True,False]\n",
    "newarr=arr[x]\n",
    "print(newarr)"
   ]
  },
  {
   "cell_type": "markdown",
   "metadata": {},
   "source": [
    "Filtering numbers list with lambda"
   ]
  },
  {
   "cell_type": "code",
   "execution_count": 17,
   "metadata": {},
   "outputs": [
    {
     "name": "stdout",
     "output_type": "stream",
     "text": [
      "[0, 2, 8]\n"
     ]
    }
   ],
   "source": [
    "seq =[0,1,2,3,5,8,13]\n",
    "result = filter(lambda x: x%2==0,seq)\n",
    "print(list(result))\n",
    "\n"
   ]
  },
  {
   "cell_type": "markdown",
   "metadata": {},
   "source": [
    "Concatenation of arrays"
   ]
  },
  {
   "cell_type": "code",
   "execution_count": 18,
   "metadata": {},
   "outputs": [
    {
     "name": "stdout",
     "output_type": "stream",
     "text": [
      "[[0 1 2]\n",
      " [3 4 5]]\n",
      "[[ 7  8  9]\n",
      " [10 11 12]]\n"
     ]
    },
    {
     "data": {
      "text/plain": [
       "array([[ 0,  1,  2],\n",
       "       [ 3,  4,  5],\n",
       "       [ 7,  8,  9],\n",
       "       [10, 11, 12]])"
      ]
     },
     "execution_count": 18,
     "metadata": {},
     "output_type": "execute_result"
    }
   ],
   "source": [
    "a = np.arange(6).reshape(2,3)\n",
    "print(a)\n",
    "b = np.arange(7,13).reshape(2,3)\n",
    "print(b)\n",
    "\n",
    "np.concatenate((a,b))\n"
   ]
  },
  {
   "cell_type": "markdown",
   "metadata": {},
   "source": [
    "Stack of arrays"
   ]
  },
  {
   "cell_type": "code",
   "execution_count": 19,
   "metadata": {},
   "outputs": [
    {
     "data": {
      "text/plain": [
       "array([[ 0,  1,  2],\n",
       "       [ 3,  4,  5],\n",
       "       [ 7,  8,  9],\n",
       "       [10, 11, 12]])"
      ]
     },
     "execution_count": 19,
     "metadata": {},
     "output_type": "execute_result"
    }
   ],
   "source": [
    "np.vstack((a,b))"
   ]
  },
  {
   "cell_type": "code",
   "execution_count": 20,
   "metadata": {},
   "outputs": [
    {
     "data": {
      "text/plain": [
       "array([[ 0,  1,  2,  7,  8,  9],\n",
       "       [ 3,  4,  5, 10, 11, 12]])"
      ]
     },
     "execution_count": 20,
     "metadata": {},
     "output_type": "execute_result"
    }
   ],
   "source": [
    "np.hstack((a,b))"
   ]
  },
  {
   "cell_type": "code",
   "execution_count": 21,
   "metadata": {},
   "outputs": [
    {
     "data": {
      "text/plain": [
       "array([[[ 0,  7],\n",
       "        [ 1,  8],\n",
       "        [ 2,  9]],\n",
       "\n",
       "       [[ 3, 10],\n",
       "        [ 4, 11],\n",
       "        [ 5, 12]]])"
      ]
     },
     "execution_count": 21,
     "metadata": {},
     "output_type": "execute_result"
    }
   ],
   "source": [
    "np.dstack((a,b))"
   ]
  },
  {
   "cell_type": "markdown",
   "metadata": {},
   "source": [
    "PANDAS"
   ]
  },
  {
   "cell_type": "code",
   "execution_count": 22,
   "metadata": {},
   "outputs": [
    {
     "name": "stdout",
     "output_type": "stream",
     "text": [
      "0    10.0\n",
      "1    20.0\n",
      "2    30.0\n",
      "3    40.0\n",
      "dtype: float16\n"
     ]
    }
   ],
   "source": [
    "# cREATING SERIES\n",
    "\n",
    "import pandas as pd\n",
    "a=np.array([10,20,30,40])\n",
    "\n",
    "S=pd.Series(a,dtype='float16')\n",
    "print(S)"
   ]
  },
  {
   "cell_type": "markdown",
   "metadata": {},
   "source": [
    "Pandas series indexing"
   ]
  },
  {
   "cell_type": "code",
   "execution_count": 23,
   "metadata": {},
   "outputs": [
    {
     "name": "stdout",
     "output_type": "stream",
     "text": [
      "x    10\n",
      "y    70\n",
      "z    20\n",
      "dtype: int64\n",
      "70\n"
     ]
    }
   ],
   "source": [
    "a=[10,70,20]\n",
    "myvar = pd.Series(a,index=['x','y','z'])\n",
    "print(myvar)\n",
    "\n",
    "print(myvar['y'])"
   ]
  },
  {
   "cell_type": "code",
   "execution_count": 24,
   "metadata": {},
   "outputs": [
    {
     "data": {
      "text/plain": [
       "0    10\n",
       "1    20\n",
       "2    30\n",
       "3    40\n",
       "4    50\n",
       "5    60\n",
       "dtype: int64"
      ]
     },
     "execution_count": 24,
     "metadata": {},
     "output_type": "execute_result"
    }
   ],
   "source": [
    "List1=[10,20,30,40,50,60]\n",
    "pd.Series(List1)"
   ]
  },
  {
   "cell_type": "code",
   "execution_count": 25,
   "metadata": {},
   "outputs": [
    {
     "name": "stdout",
     "output_type": "stream",
     "text": [
      "day1    42\n",
      "day2    38\n",
      "day3    50\n",
      "dtype: int64\n"
     ]
    }
   ],
   "source": [
    "sales ={'day1':42,'day2':38,'day3':50}\n",
    "myvar = pd.Series(sales)\n",
    "print(myvar)\n"
   ]
  },
  {
   "cell_type": "markdown",
   "metadata": {},
   "source": [
    "Creating Dataframes"
   ]
  },
  {
   "cell_type": "code",
   "execution_count": 26,
   "metadata": {},
   "outputs": [
    {
     "name": "stdout",
     "output_type": "stream",
     "text": [
      "          calories  duration\n",
      "calories       420        50\n",
      "duration       380        40\n",
      "other          390        45\n",
      "____\n",
      "calories    390\n",
      "duration     45\n",
      "Name: other, dtype: int64\n"
     ]
    }
   ],
   "source": [
    "data={'calories':[420,380,390],'duration':[50,40,45]}\n",
    "df=pd.DataFrame(data,index=['calories','duration','other'])\n",
    "print(df)\n",
    "\n",
    "print(\"____\")\n",
    "print(df.loc['other'])\n"
   ]
  },
  {
   "cell_type": "markdown",
   "metadata": {},
   "source": [
    "Reading CSV using Pandas"
   ]
  },
  {
   "cell_type": "code",
   "execution_count": 27,
   "metadata": {},
   "outputs": [
    {
     "name": "stdout",
     "output_type": "stream",
     "text": [
      "    1  1.1   12/6/2022\n",
      "0   2    2   12/7/2022\n",
      "1   3    3   12/8/2022\n",
      "2   4    4   12/9/2022\n",
      "3   5    5  12/10/2022\n",
      "4   6    6  12/11/2022\n",
      "5   7    7  12/12/2022\n",
      "6   8    8  12/13/2022\n",
      "7   9    9  12/14/2022\n",
      "8  10   10  12/15/2022\n"
     ]
    }
   ],
   "source": [
    "import pandas as pd\n",
    "df = pd.read_csv('data.csv')\n",
    "print(df.to_string())"
   ]
  },
  {
   "cell_type": "markdown",
   "metadata": {},
   "source": [
    "Reading dataset using excelsheet"
   ]
  },
  {
   "cell_type": "code",
   "execution_count": 28,
   "metadata": {},
   "outputs": [
    {
     "name": "stdout",
     "output_type": "stream",
     "text": [
      "    1  1.1 2022-12-06 00:00:00\n",
      "0   2    2          2022-12-07\n",
      "1   3    3          2022-12-08\n",
      "2   4    4          2022-12-09\n",
      "3   5    5          2022-12-10\n",
      "4   6    6          2022-12-11\n",
      "5   7    7          2022-12-12\n",
      "6   8    8          2022-12-13\n",
      "7   9    9          2022-12-14\n",
      "8  10   10          2022-12-15\n"
     ]
    }
   ],
   "source": [
    "import pandas as pd\n",
    "df = pd.read_excel('data.xlsx')\n",
    "print(df.to_string())"
   ]
  },
  {
   "cell_type": "markdown",
   "metadata": {},
   "source": [
    "Reading json file"
   ]
  },
  {
   "cell_type": "code",
   "execution_count": 29,
   "metadata": {},
   "outputs": [
    {
     "name": "stdout",
     "output_type": "stream",
     "text": [
      "                  student Bio student Academic student Academic1\n",
      "first name                  A              NaN               NaN\n",
      "last name                   B              NaN               NaN\n",
      "DOB                                        NaN               NaN\n",
      "address     {'city': 'Hubli'}              NaN               NaN\n",
      "grade                     NaN               A+               NaN\n",
      "grade1                    NaN               A+               NaN\n",
      "grade2                    NaN               A+               NaN\n",
      "grade4                    NaN              NaN                A+\n",
      "grade5                    NaN              NaN                A+\n",
      "grade6                    NaN              NaN                A+\n"
     ]
    }
   ],
   "source": [
    "import pandas as pd\n",
    "df=pd.read_json('data.json')\n",
    "print(df.to_string())"
   ]
  },
  {
   "cell_type": "markdown",
   "metadata": {},
   "source": [
    "Dictionary as JSON"
   ]
  },
  {
   "cell_type": "code",
   "execution_count": 31,
   "metadata": {},
   "outputs": [
    {
     "name": "stdout",
     "output_type": "stream",
     "text": [
      "   Duration  Pulse  Maxpulse\n",
      "0        60    110     110.0\n",
      "1        60    112     117.0\n",
      "2        50    117       NaN\n"
     ]
    }
   ],
   "source": [
    "import pandas as pd\n",
    "data = {\n",
    "    \"Duration\":{\"0\":60,\"1\":60,\"2\":50,},\n",
    "    \"Pulse\":{\"0\":110, \"2\":117, \"1\":112},\n",
    "    \"Maxpulse\":{\"0\":110, \"1\":117}\n",
    "\n",
    "    }\n",
    "df = pd.DataFrame(data)\n",
    "print(df)"
   ]
  },
  {
   "cell_type": "markdown",
   "metadata": {},
   "source": [
    "Slicing CSV"
   ]
  },
  {
   "cell_type": "code",
   "execution_count": 36,
   "metadata": {},
   "outputs": [
    {
     "name": "stdout",
     "output_type": "stream",
     "text": [
      "    1  1.1   12/6/2022\n",
      "0   2    2   12/7/2022\n",
      "1   3    3   12/8/2022\n",
      "2   4    4   12/9/2022\n",
      "3   5    5  12/10/2022\n",
      "4   6    6  12/11/2022\n",
      "5   7    7  12/12/2022\n",
      "6   8    8  12/13/2022\n",
      "7   9    9  12/14/2022\n",
      "8  10   10  12/15/2022\n",
      "9  11   11  12/16/2022\n"
     ]
    }
   ],
   "source": [
    "import pandas as pd\n",
    "df = pd.read_csv('data.csv')\n",
    "print(df.head(10))"
   ]
  },
  {
   "cell_type": "code",
   "execution_count": 37,
   "metadata": {},
   "outputs": [
    {
     "name": "stdout",
     "output_type": "stream",
     "text": [
      "   1  1.1   12/6/2022\n",
      "0  2    2   12/7/2022\n",
      "1  3    3   12/8/2022\n",
      "2  4    4   12/9/2022\n",
      "3  5    5  12/10/2022\n",
      "4  6    6  12/11/2022\n"
     ]
    }
   ],
   "source": [
    "print(df.head())"
   ]
  },
  {
   "cell_type": "code",
   "execution_count": 38,
   "metadata": {},
   "outputs": [
    {
     "name": "stdout",
     "output_type": "stream",
     "text": [
      "     1  1.1   12/6/2022\n",
      "9   11   11  12/16/2022\n",
      "10  12   12  12/17/2022\n",
      "11  13   13  12/18/2022\n",
      "12  14   14  12/19/2022\n",
      "13  15   15  12/20/2022\n",
      "14  16   16  12/21/2022\n",
      "15  17   17  12/22/2022\n",
      "16  18   18  12/23/2022\n",
      "17  19   19  12/24/2022\n",
      "18  20   20  12/25/2022\n"
     ]
    }
   ],
   "source": [
    "print(df.tail(10))"
   ]
  },
  {
   "cell_type": "code",
   "execution_count": 39,
   "metadata": {},
   "outputs": [
    {
     "name": "stdout",
     "output_type": "stream",
     "text": [
      "     1  1.1   12/6/2022\n",
      "14  16   16  12/21/2022\n",
      "15  17   17  12/22/2022\n",
      "16  18   18  12/23/2022\n",
      "17  19   19  12/24/2022\n",
      "18  20   20  12/25/2022\n"
     ]
    }
   ],
   "source": [
    "print(df.tail())"
   ]
  },
  {
   "cell_type": "code",
   "execution_count": 5,
   "metadata": {},
   "outputs": [
    {
     "data": {
      "image/png": "[encoded data removed]",
      "text/plain": [
       "<Figure size 432x288 with 1 Axes>"
      ]
     },
     "metadata": {
      "needs_background": "light"
     },
     "output_type": "display_data"
    }
   ],
   "source": [
    "from cProfile import label\n",
    "import matplotlib.pyplot as plt\n",
    "\n",
    "x1=[1,2,3,4,6,8,1]\n",
    "y1=[10,4,1,2,2,5,5]\n",
    "\n",
    "plt.plot(x1,y1,label='Line 1')\n",
    "\n",
    "x2=[1,2,2,4]\n",
    "y2=[4,1,3,3]\n",
    "\n",
    "plt.plot(x2,y2,label='Line 2')\n",
    "\n",
    "plt.xlabel('Temp')\n",
    "plt.ylabel('Resistance')\n",
    "\n",
    "plt.title('Temperature Variation affecting resistance')\n",
    "plt.legend()\n",
    "plt.show()\n"
   ]
  },
  {
   "cell_type": "code",
   "execution_count": 7,
   "metadata": {},
   "outputs": [
    {
     "name": "stdout",
     "output_type": "stream",
     "text": [
      "3.141592653589793\n"
     ]
    }
   ],
   "source": [
    "import numpy as np\n",
    "import matplotlib\n",
    "import matplotlib.pyplot as plt\n",
    "import matplotlib.animation as animation\n",
    " \n",
    " \n",
    "def updateline(num, data, line1, data2, line2):\n",
    "    line1.set_data(data[..., :num])\n",
    "    line2.set_data(data2[..., :num])\n",
    "     \n",
    "    time_text.set_text(\"Points: %.0f\" % int(num))\n",
    "     \n",
    "    return line1, line2\n",
    " \n",
    " \n",
    "# generating data of 100 elements\n",
    "# each for line 1\n",
    "x = np.linspace(0, 2*np.pi, 100)\n",
    "y = np.sin(x)\n",
    "data = np.array([x, y])\n",
    " \n",
    "# generating data of 100 elements\n",
    "# each for line 2\n",
    "x2 = np.linspace(0, 2*np.pi, 100)\n",
    "y2 = np.cos(x2)\n",
    "data2 = np.array([x2, y2])\n",
    " \n",
    "# setup the formating for moving files\n",
    "Writer = animation.writers['ffmpeg']\n",
    "Writer = Writer(fps=10, metadata=dict(artist=\"Me\"), bitrate=-1)\n",
    " \n",
    " \n",
    "fig = plt.figure()\n",
    "ax = fig.add_subplot(111)\n",
    "l, = ax.plot([], [], 'r-', label=\"Sin\")\n",
    "ax2 = ax.twinx()\n",
    "k = ax2.plot([], [], 'b-', label=\"Cos\")[0]\n",
    " \n",
    "ax.legend([l, k], [l.get_label(), k.get_label()], loc=0)\n",
    " \n",
    "ax.set_xlabel(\"X\")\n",
    " \n",
    "# axis 1\n",
    "ax.set_ylim(-1.5, 1.5)\n",
    "ax.set_xlim(0, 7)\n",
    " \n",
    "# axis 2\n",
    "ax2.set_ylim(-1.5, 1.5)\n",
    "ax2.set_xlim(0, 7)\n",
    " \n",
    "plt.title('Sin and Cos')\n",
    "time_text = ax.text(0.1, 0.95, \"\", transform=ax.transAxes,\n",
    "                    fontsize=15, color='red')\n",
    " \n",
    "# set line_animation variable to call\n",
    "# the function recursively\n",
    "line_animation = animation.FuncAnimation(\n",
    "    fig, updateline, frames=100, fargs=(data, l, data2, k))\n",
    "line_animation.save(\"lines.mp4\", writer=Writer)"
   ]
  }
 ],
 "metadata": {
  "kernelspec": {
   "display_name": "Python 3.8.5 ('base')",
   "language": "python",
   "name": "python3"
  },
  "language_info": {
   "codemirror_mode": {
    "name": "ipython",
    "version": 3
   },
   "file_extension": ".py",
   "mimetype": "text/x-python",
   "name": "python",
   "nbconvert_exporter": "python",
   "pygments_lexer": "ipython3",
   "version": "3.8.5"
  },
  "orig_nbformat": 4,
  "vscode": {
   "interpreter": {
    "hash": "ad2bdc8ecc057115af97d19610ffacc2b4e99fae6737bb82f5d7fb13d2f2c186"
   }
  }
 },
 "nbformat": 4,
 "nbformat_minor": 2
}
